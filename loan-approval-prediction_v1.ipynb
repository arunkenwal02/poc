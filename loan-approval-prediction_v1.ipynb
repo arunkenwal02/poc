{
 "cells": [
  {
   "cell_type": "markdown",
   "id": "stone-passion",
   "metadata": {},
   "source": [
    "# Machine Learning Model Dev"
   ]
  },
  {
   "cell_type": "markdown",
   "id": "organizational-sender",
   "metadata": {},
   "source": [
    "---"
   ]
  },
  {
   "cell_type": "markdown",
   "id": "african-convergence",
   "metadata": {},
   "source": [
    "## Import packages"
   ]
  },
  {
   "cell_type": "markdown",
   "id": "unavailable-military",
   "metadata": {},
   "source": [
    "There are some packages for doing descriptive analytics as follows:\n",
    "- **pandas**: for data manipulation\n",
    "- **numpy**: for linear algebra calculation\n",
    "- **matplotlib**: for data visualization\n",
    "- **seaborn**: for data manipulation\n",
    "- **plotnine**: for data manipulation\n",
    "\n",
    "**Note**: that there are more than one package used for making a data visualization. The `plotnine` can be your choice if you are familiar with `ggplot2` on R programming. It will create your visualization beautifully"
   ]
  },
  {
   "cell_type": "code",
   "execution_count": 1,
   "id": "undefined-guide",
   "metadata": {},
   "outputs": [],
   "source": [
    "# Dataframe manipulation\n",
    "import pandas as pd\n",
    "\n",
    "# Linear algebra\n",
    "import numpy as np\n",
    "\n",
    "# Data visualization with plotnine\n",
    "from plotnine import *\n",
    "import plotnine\n",
    "\n",
    "# Data visualization with matplotlib\n",
    "import matplotlib.pyplot as plt\n",
    "\n",
    "# Data partitioning\n",
    "from sklearn.model_selection import train_test_split\n",
    "from sklearn.model_selection import KFold\n",
    "\n",
    "# Grid-search\n",
    "from sklearn.model_selection import GridSearchCV\n",
    "\n",
    "# Evaluation metrics\n",
    "from sklearn.metrics import accuracy_score, f1_score, precision_score, recall_score\n",
    "from sklearn.metrics import make_scorer\n",
    "\n",
    "# XGBoost model\n",
    "import xgboost as xgb\n",
    "\n",
    "# Save the model\n",
    "import joblib "
   ]
  },
  {
   "cell_type": "code",
   "execution_count": 2,
   "id": "infrared-scout",
   "metadata": {},
   "outputs": [],
   "source": [
    "# Ignore warnings\n",
    "import warnings\n",
    "warnings.filterwarnings('ignore', category = FutureWarning)"
   ]
  },
  {
   "cell_type": "markdown",
   "id": "flush-brand",
   "metadata": {},
   "source": [
    "## Import data set"
   ]
  },
  {
   "cell_type": "markdown",
   "id": "standard-property",
   "metadata": {},
   "source": [
    "After importing the data set into Python, the `df_train` is now our data frame. The data frame has a lot of functions and methods that will create spesific outputs about the characteristic of data frame. The method of `columns` will print out all the column names."
   ]
  },
  {
   "cell_type": "markdown",
   "id": "cellular-shower",
   "metadata": {},
   "source": [
    "### Training set"
   ]
  },
  {
   "cell_type": "code",
   "execution_count": 3,
   "id": "subjective-truth",
   "metadata": {},
   "outputs": [],
   "source": [
    "# Import the training set\n",
    "df_train = pd.read_csv(\n",
    "    filepath_or_buffer = 'https://raw.githubusercontent.com/dphi-official/Datasets/master/Loan_Data/loan_train.csv',\n",
    "    usecols = [i for i in range(1, 14)]\n",
    ")"
   ]
  },
  {
   "cell_type": "code",
   "execution_count": 4,
   "id": "collect-pointer",
   "metadata": {},
   "outputs": [
    {
     "name": "stdout",
     "output_type": "stream",
     "text": [
      "Data dimension: 491 rows and 13 columns\n"
     ]
    },
    {
     "data": {
      "text/html": [
       "<div>\n",
       "<style scoped>\n",
       "    .dataframe tbody tr th:only-of-type {\n",
       "        vertical-align: middle;\n",
       "    }\n",
       "\n",
       "    .dataframe tbody tr th {\n",
       "        vertical-align: top;\n",
       "    }\n",
       "\n",
       "    .dataframe thead th {\n",
       "        text-align: right;\n",
       "    }\n",
       "</style>\n",
       "<table border=\"1\" class=\"dataframe\">\n",
       "  <thead>\n",
       "    <tr style=\"text-align: right;\">\n",
       "      <th></th>\n",
       "      <th>Loan_ID</th>\n",
       "      <th>Gender</th>\n",
       "      <th>Married</th>\n",
       "      <th>Dependents</th>\n",
       "      <th>Education</th>\n",
       "      <th>Self_Employed</th>\n",
       "      <th>ApplicantIncome</th>\n",
       "      <th>CoapplicantIncome</th>\n",
       "      <th>LoanAmount</th>\n",
       "      <th>Loan_Amount_Term</th>\n",
       "      <th>Credit_History</th>\n",
       "      <th>Property_Area</th>\n",
       "      <th>Loan_Status</th>\n",
       "    </tr>\n",
       "  </thead>\n",
       "  <tbody>\n",
       "    <tr>\n",
       "      <th>0</th>\n",
       "      <td>LP002305</td>\n",
       "      <td>Female</td>\n",
       "      <td>No</td>\n",
       "      <td>0</td>\n",
       "      <td>Graduate</td>\n",
       "      <td>No</td>\n",
       "      <td>4547</td>\n",
       "      <td>0.0</td>\n",
       "      <td>115.0</td>\n",
       "      <td>360.0</td>\n",
       "      <td>1.0</td>\n",
       "      <td>Semiurban</td>\n",
       "      <td>1</td>\n",
       "    </tr>\n",
       "    <tr>\n",
       "      <th>1</th>\n",
       "      <td>LP001715</td>\n",
       "      <td>Male</td>\n",
       "      <td>Yes</td>\n",
       "      <td>3+</td>\n",
       "      <td>Not Graduate</td>\n",
       "      <td>Yes</td>\n",
       "      <td>5703</td>\n",
       "      <td>0.0</td>\n",
       "      <td>130.0</td>\n",
       "      <td>360.0</td>\n",
       "      <td>1.0</td>\n",
       "      <td>Rural</td>\n",
       "      <td>1</td>\n",
       "    </tr>\n",
       "    <tr>\n",
       "      <th>2</th>\n",
       "      <td>LP002086</td>\n",
       "      <td>Female</td>\n",
       "      <td>Yes</td>\n",
       "      <td>0</td>\n",
       "      <td>Graduate</td>\n",
       "      <td>No</td>\n",
       "      <td>4333</td>\n",
       "      <td>2451.0</td>\n",
       "      <td>110.0</td>\n",
       "      <td>360.0</td>\n",
       "      <td>1.0</td>\n",
       "      <td>Urban</td>\n",
       "      <td>0</td>\n",
       "    </tr>\n",
       "    <tr>\n",
       "      <th>3</th>\n",
       "      <td>LP001136</td>\n",
       "      <td>Male</td>\n",
       "      <td>Yes</td>\n",
       "      <td>0</td>\n",
       "      <td>Not Graduate</td>\n",
       "      <td>Yes</td>\n",
       "      <td>4695</td>\n",
       "      <td>0.0</td>\n",
       "      <td>96.0</td>\n",
       "      <td>NaN</td>\n",
       "      <td>1.0</td>\n",
       "      <td>Urban</td>\n",
       "      <td>1</td>\n",
       "    </tr>\n",
       "    <tr>\n",
       "      <th>4</th>\n",
       "      <td>LP002529</td>\n",
       "      <td>Male</td>\n",
       "      <td>Yes</td>\n",
       "      <td>2</td>\n",
       "      <td>Graduate</td>\n",
       "      <td>No</td>\n",
       "      <td>6700</td>\n",
       "      <td>1750.0</td>\n",
       "      <td>230.0</td>\n",
       "      <td>300.0</td>\n",
       "      <td>1.0</td>\n",
       "      <td>Semiurban</td>\n",
       "      <td>1</td>\n",
       "    </tr>\n",
       "  </tbody>\n",
       "</table>\n",
       "</div>"
      ],
      "text/plain": [
       "    Loan_ID  Gender Married Dependents     Education Self_Employed  \\\n",
       "0  LP002305  Female      No          0      Graduate            No   \n",
       "1  LP001715    Male     Yes         3+  Not Graduate           Yes   \n",
       "2  LP002086  Female     Yes          0      Graduate            No   \n",
       "3  LP001136    Male     Yes          0  Not Graduate           Yes   \n",
       "4  LP002529    Male     Yes          2      Graduate            No   \n",
       "\n",
       "   ApplicantIncome  CoapplicantIncome  LoanAmount  Loan_Amount_Term  \\\n",
       "0             4547                0.0       115.0             360.0   \n",
       "1             5703                0.0       130.0             360.0   \n",
       "2             4333             2451.0       110.0             360.0   \n",
       "3             4695                0.0        96.0               NaN   \n",
       "4             6700             1750.0       230.0             300.0   \n",
       "\n",
       "   Credit_History Property_Area  Loan_Status  \n",
       "0             1.0     Semiurban            1  \n",
       "1             1.0         Rural            1  \n",
       "2             1.0         Urban            0  \n",
       "3             1.0         Urban            1  \n",
       "4             1.0     Semiurban            1  "
      ]
     },
     "execution_count": 4,
     "metadata": {},
     "output_type": "execute_result"
    }
   ],
   "source": [
    "# Data dimension\n",
    "print('Data dimension: {} rows and {} columns'.format(len(df_train), len(df_train.columns)))\n",
    "df_train.head()"
   ]
  },
  {
   "cell_type": "markdown",
   "id": "elegant-recorder",
   "metadata": {},
   "source": [
    "### Testing data"
   ]
  },
  {
   "cell_type": "code",
   "execution_count": 5,
   "id": "surprised-organ",
   "metadata": {},
   "outputs": [],
   "source": [
    "# Import the testing set\n",
    "df_test = pd.read_csv(\n",
    "    filepath_or_buffer = 'https://raw.githubusercontent.com/dphi-official/Datasets/master/Loan_Data/loan_test.csv'\n",
    ")"
   ]
  },
  {
   "cell_type": "code",
   "execution_count": 6,
   "id": "median-retreat",
   "metadata": {
    "scrolled": true
   },
   "outputs": [
    {
     "name": "stdout",
     "output_type": "stream",
     "text": [
      "Data dimension: 123 rows and 12 columns\n"
     ]
    },
    {
     "data": {
      "text/html": [
       "<div>\n",
       "<style scoped>\n",
       "    .dataframe tbody tr th:only-of-type {\n",
       "        vertical-align: middle;\n",
       "    }\n",
       "\n",
       "    .dataframe tbody tr th {\n",
       "        vertical-align: top;\n",
       "    }\n",
       "\n",
       "    .dataframe thead th {\n",
       "        text-align: right;\n",
       "    }\n",
       "</style>\n",
       "<table border=\"1\" class=\"dataframe\">\n",
       "  <thead>\n",
       "    <tr style=\"text-align: right;\">\n",
       "      <th></th>\n",
       "      <th>Loan_ID</th>\n",
       "      <th>Gender</th>\n",
       "      <th>Married</th>\n",
       "      <th>Dependents</th>\n",
       "      <th>Education</th>\n",
       "      <th>Self_Employed</th>\n",
       "      <th>ApplicantIncome</th>\n",
       "      <th>CoapplicantIncome</th>\n",
       "      <th>LoanAmount</th>\n",
       "      <th>Loan_Amount_Term</th>\n",
       "      <th>Credit_History</th>\n",
       "      <th>Property_Area</th>\n",
       "    </tr>\n",
       "  </thead>\n",
       "  <tbody>\n",
       "    <tr>\n",
       "      <th>0</th>\n",
       "      <td>LP001116</td>\n",
       "      <td>Male</td>\n",
       "      <td>No</td>\n",
       "      <td>0</td>\n",
       "      <td>Not Graduate</td>\n",
       "      <td>No</td>\n",
       "      <td>3748</td>\n",
       "      <td>1668.0</td>\n",
       "      <td>110.0</td>\n",
       "      <td>360.0</td>\n",
       "      <td>1.0</td>\n",
       "      <td>Semiurban</td>\n",
       "    </tr>\n",
       "    <tr>\n",
       "      <th>1</th>\n",
       "      <td>LP001488</td>\n",
       "      <td>Male</td>\n",
       "      <td>Yes</td>\n",
       "      <td>3+</td>\n",
       "      <td>Graduate</td>\n",
       "      <td>No</td>\n",
       "      <td>4000</td>\n",
       "      <td>7750.0</td>\n",
       "      <td>290.0</td>\n",
       "      <td>360.0</td>\n",
       "      <td>1.0</td>\n",
       "      <td>Semiurban</td>\n",
       "    </tr>\n",
       "    <tr>\n",
       "      <th>2</th>\n",
       "      <td>LP002138</td>\n",
       "      <td>Male</td>\n",
       "      <td>Yes</td>\n",
       "      <td>0</td>\n",
       "      <td>Graduate</td>\n",
       "      <td>No</td>\n",
       "      <td>2625</td>\n",
       "      <td>6250.0</td>\n",
       "      <td>187.0</td>\n",
       "      <td>360.0</td>\n",
       "      <td>1.0</td>\n",
       "      <td>Rural</td>\n",
       "    </tr>\n",
       "    <tr>\n",
       "      <th>3</th>\n",
       "      <td>LP002284</td>\n",
       "      <td>Male</td>\n",
       "      <td>No</td>\n",
       "      <td>0</td>\n",
       "      <td>Not Graduate</td>\n",
       "      <td>No</td>\n",
       "      <td>3902</td>\n",
       "      <td>1666.0</td>\n",
       "      <td>109.0</td>\n",
       "      <td>360.0</td>\n",
       "      <td>1.0</td>\n",
       "      <td>Rural</td>\n",
       "    </tr>\n",
       "    <tr>\n",
       "      <th>4</th>\n",
       "      <td>LP002328</td>\n",
       "      <td>Male</td>\n",
       "      <td>Yes</td>\n",
       "      <td>0</td>\n",
       "      <td>Not Graduate</td>\n",
       "      <td>No</td>\n",
       "      <td>6096</td>\n",
       "      <td>0.0</td>\n",
       "      <td>218.0</td>\n",
       "      <td>360.0</td>\n",
       "      <td>0.0</td>\n",
       "      <td>Rural</td>\n",
       "    </tr>\n",
       "  </tbody>\n",
       "</table>\n",
       "</div>"
      ],
      "text/plain": [
       "    Loan_ID Gender Married Dependents     Education Self_Employed  \\\n",
       "0  LP001116   Male      No          0  Not Graduate            No   \n",
       "1  LP001488   Male     Yes         3+      Graduate            No   \n",
       "2  LP002138   Male     Yes          0      Graduate            No   \n",
       "3  LP002284   Male      No          0  Not Graduate            No   \n",
       "4  LP002328   Male     Yes          0  Not Graduate            No   \n",
       "\n",
       "   ApplicantIncome  CoapplicantIncome  LoanAmount  Loan_Amount_Term  \\\n",
       "0             3748             1668.0       110.0             360.0   \n",
       "1             4000             7750.0       290.0             360.0   \n",
       "2             2625             6250.0       187.0             360.0   \n",
       "3             3902             1666.0       109.0             360.0   \n",
       "4             6096                0.0       218.0             360.0   \n",
       "\n",
       "   Credit_History Property_Area  \n",
       "0             1.0     Semiurban  \n",
       "1             1.0     Semiurban  \n",
       "2             1.0         Rural  \n",
       "3             1.0         Rural  \n",
       "4             0.0         Rural  "
      ]
     },
     "execution_count": 6,
     "metadata": {},
     "output_type": "execute_result"
    }
   ],
   "source": [
    "# Data dimension\n",
    "print('Data dimension: {} rows and {} columns'.format(len(df_test), len(df_test.columns)))\n",
    "df_test.head()"
   ]
  },
  {
   "cell_type": "markdown",
   "id": "urban-township",
   "metadata": {},
   "source": [
    "## Data preprocessing"
   ]
  },
  {
   "cell_type": "markdown",
   "id": "elder-creature",
   "metadata": {},
   "source": [
    "### Training data"
   ]
  },
  {
   "cell_type": "markdown",
   "id": "expected-fountain",
   "metadata": {},
   "source": [
    "#### Scale measurement"
   ]
  },
  {
   "cell_type": "markdown",
   "id": "demographic-enclosure",
   "metadata": {},
   "source": [
    "The method of `info` will show us the metadata or information about the columns in a data frame. It undirectly specifies the scale measurement of a given columns in a data frame. However, it can be misleading. So, we must modify the scale measurement or column types based on column characteristic."
   ]
  },
  {
   "cell_type": "code",
   "execution_count": 7,
   "id": "radical-stroke",
   "metadata": {
    "scrolled": false
   },
   "outputs": [
    {
     "name": "stdout",
     "output_type": "stream",
     "text": [
      "<class 'pandas.core.frame.DataFrame'>\n",
      "RangeIndex: 491 entries, 0 to 490\n",
      "Data columns (total 13 columns):\n",
      " #   Column             Non-Null Count  Dtype  \n",
      "---  ------             --------------  -----  \n",
      " 0   Loan_ID            491 non-null    object \n",
      " 1   Gender             481 non-null    object \n",
      " 2   Married            490 non-null    object \n",
      " 3   Dependents         482 non-null    object \n",
      " 4   Education          491 non-null    object \n",
      " 5   Self_Employed      462 non-null    object \n",
      " 6   ApplicantIncome    491 non-null    int64  \n",
      " 7   CoapplicantIncome  491 non-null    float64\n",
      " 8   LoanAmount         475 non-null    float64\n",
      " 9   Loan_Amount_Term   478 non-null    float64\n",
      " 10  Credit_History     448 non-null    float64\n",
      " 11  Property_Area      491 non-null    object \n",
      " 12  Loan_Status        491 non-null    int64  \n",
      "dtypes: float64(4), int64(2), object(7)\n",
      "memory usage: 50.0+ KB\n"
     ]
    }
   ],
   "source": [
    "# Data frame metadata\n",
    "df_train.info()"
   ]
  },
  {
   "cell_type": "code",
   "execution_count": 8,
   "id": "northern-bulletin",
   "metadata": {},
   "outputs": [
    {
     "data": {
      "text/plain": [
       "Loan_ID           object\n",
       "Gender            object\n",
       "Married           object\n",
       "Dependents        object\n",
       "Education         object\n",
       "Self_Employed     object\n",
       "Credit_History    object\n",
       "Property_Area     object\n",
       "dtype: object"
      ]
     },
     "execution_count": 8,
     "metadata": {},
     "output_type": "execute_result"
    }
   ],
   "source": [
    "# Change column types\n",
    "df_train = df_train.astype({'Credit_History': object, 'Loan_Status': int})\n",
    "df_train.select_dtypes(include = ['object']).dtypes"
   ]
  },
  {
   "cell_type": "code",
   "execution_count": 9,
   "id": "collectible-leave",
   "metadata": {
    "scrolled": true
   },
   "outputs": [
    {
     "name": "stdout",
     "output_type": "stream",
     "text": [
      "Loan_ID\n",
      "LP002777    1\n",
      "LP002305    1\n",
      "LP001715    1\n",
      "LP002086    1\n",
      "LP001136    1\n",
      "           ..\n",
      "LP002379    1\n",
      "LP001011    1\n",
      "LP001508    1\n",
      "LP001112    1\n",
      "LP002130    1\n",
      "Name: count, Length: 491, dtype: int64 \n",
      "\n",
      "Gender\n",
      "Male      393\n",
      "Female     88\n",
      "Name: count, dtype: int64 \n",
      "\n",
      "Married\n",
      "Yes    324\n",
      "No     166\n",
      "Name: count, dtype: int64 \n",
      "\n",
      "Dependents\n",
      "0     276\n",
      "1      85\n",
      "2      78\n",
      "3+     43\n",
      "Name: count, dtype: int64 \n",
      "\n",
      "Education\n",
      "Graduate        388\n",
      "Not Graduate    103\n",
      "Name: count, dtype: int64 \n",
      "\n",
      "Self_Employed\n",
      "No     398\n",
      "Yes     64\n",
      "Name: count, dtype: int64 \n",
      "\n",
      "Credit_History\n",
      "1.0    380\n",
      "0.0     68\n",
      "Name: count, dtype: int64 \n",
      "\n",
      "Property_Area\n",
      "Semiurban    186\n",
      "Urban        155\n",
      "Rural        150\n",
      "Name: count, dtype: int64 \n",
      "\n"
     ]
    }
   ],
   "source": [
    "# Summary statistics of categorical columns\n",
    "for i in df_train.select_dtypes('object').columns:\n",
    "    print(df_train[i].value_counts(),'\\n')"
   ]
  },
  {
   "cell_type": "markdown",
   "id": "friendly-landscape",
   "metadata": {},
   "source": [
    "#### Handle missing values"
   ]
  },
  {
   "cell_type": "code",
   "execution_count": 10,
   "id": "reported-duration",
   "metadata": {},
   "outputs": [
    {
     "data": {
      "text/plain": [
       "Loan_ID               0\n",
       "Gender               10\n",
       "Married               1\n",
       "Dependents            9\n",
       "Education             0\n",
       "Self_Employed        29\n",
       "ApplicantIncome       0\n",
       "CoapplicantIncome     0\n",
       "LoanAmount           16\n",
       "Loan_Amount_Term     13\n",
       "Credit_History       43\n",
       "Property_Area         0\n",
       "Loan_Status           0\n",
       "dtype: int64"
      ]
     },
     "execution_count": 10,
     "metadata": {},
     "output_type": "execute_result"
    }
   ],
   "source": [
    "# Check missing values\n",
    "df_train.isna().sum()"
   ]
  },
  {
   "cell_type": "markdown",
   "id": "indian-burden",
   "metadata": {},
   "source": [
    "**Note**: Consideration to remove missing values is based on a business logic. The concept of *garbage in garbage out* applies. Without any relevant domain knowledges of loan problem, the interpolation will lead to the biased result.\n",
    "\n",
    "Instead of dropping the missing values brutally, we try to inspect the relevant variables in the data in order to suggest the consideration for the next analysis"
   ]
  },
  {
   "cell_type": "markdown",
   "id": "composed-staff",
   "metadata": {},
   "source": [
    "##### `Dependents`"
   ]
  },
  {
   "cell_type": "code",
   "execution_count": 11,
   "id": "pleasant-mortality",
   "metadata": {},
   "outputs": [
    {
     "name": "stdout",
     "output_type": "stream",
     "text": [
      "Number of missing dependents is about 9 rows\n"
     ]
    }
   ],
   "source": [
    "print('Number of missing dependents is about {} rows'.format(df_train['Dependents'].isna().sum()))"
   ]
  },
  {
   "cell_type": "code",
   "execution_count": 12,
   "id": "prescribed-sarah",
   "metadata": {},
   "outputs": [],
   "source": [
    "# Replace missing valuess with \"0\"\n",
    "df_train['Dependents'].fillna(value = '0', inplace = True) "
   ]
  },
  {
   "cell_type": "markdown",
   "id": "applied-interpretation",
   "metadata": {},
   "source": [
    "##### `Self_Employed`"
   ]
  },
  {
   "cell_type": "code",
   "execution_count": 13,
   "id": "metropolitan-wings",
   "metadata": {},
   "outputs": [
    {
     "name": "stdout",
     "output_type": "stream",
     "text": [
      "Number of missing Self_Employed is about 29 rows\n"
     ]
    }
   ],
   "source": [
    "print('Number of missing Self_Employed is about {} rows'.format(df_train['Self_Employed'].isna().sum()))"
   ]
  },
  {
   "cell_type": "code",
   "execution_count": 14,
   "id": "found-genesis",
   "metadata": {},
   "outputs": [],
   "source": [
    "# Replace missing values with \"No\"\n",
    "df_train['Self_Employed'].fillna(value = 'No', inplace = True) "
   ]
  },
  {
   "cell_type": "markdown",
   "id": "finished-tuner",
   "metadata": {},
   "source": [
    "##### `Loan_Amount_Term`"
   ]
  },
  {
   "cell_type": "code",
   "execution_count": 15,
   "id": "measured-bracelet",
   "metadata": {},
   "outputs": [
    {
     "data": {
      "text/html": [
       "<div>\n",
       "<style scoped>\n",
       "    .dataframe tbody tr th:only-of-type {\n",
       "        vertical-align: middle;\n",
       "    }\n",
       "\n",
       "    .dataframe tbody tr th {\n",
       "        vertical-align: top;\n",
       "    }\n",
       "\n",
       "    .dataframe thead tr th {\n",
       "        text-align: left;\n",
       "    }\n",
       "\n",
       "    .dataframe thead tr:last-of-type th {\n",
       "        text-align: right;\n",
       "    }\n",
       "</style>\n",
       "<table border=\"1\" class=\"dataframe\">\n",
       "  <thead>\n",
       "    <tr>\n",
       "      <th></th>\n",
       "      <th colspan=\"8\" halign=\"left\">Loan_Amount_Term</th>\n",
       "    </tr>\n",
       "    <tr>\n",
       "      <th></th>\n",
       "      <th>count</th>\n",
       "      <th>mean</th>\n",
       "      <th>std</th>\n",
       "      <th>min</th>\n",
       "      <th>25%</th>\n",
       "      <th>50%</th>\n",
       "      <th>75%</th>\n",
       "      <th>max</th>\n",
       "    </tr>\n",
       "    <tr>\n",
       "      <th>Loan_Status</th>\n",
       "      <th></th>\n",
       "      <th></th>\n",
       "      <th></th>\n",
       "      <th></th>\n",
       "      <th></th>\n",
       "      <th></th>\n",
       "      <th></th>\n",
       "      <th></th>\n",
       "    </tr>\n",
       "  </thead>\n",
       "  <tbody>\n",
       "    <tr>\n",
       "      <th>0</th>\n",
       "      <td>143.0</td>\n",
       "      <td>341.790210</td>\n",
       "      <td>73.018891</td>\n",
       "      <td>36.0</td>\n",
       "      <td>360.0</td>\n",
       "      <td>360.0</td>\n",
       "      <td>360.0</td>\n",
       "      <td>480.0</td>\n",
       "    </tr>\n",
       "    <tr>\n",
       "      <th>1</th>\n",
       "      <td>335.0</td>\n",
       "      <td>341.086567</td>\n",
       "      <td>64.320411</td>\n",
       "      <td>12.0</td>\n",
       "      <td>360.0</td>\n",
       "      <td>360.0</td>\n",
       "      <td>360.0</td>\n",
       "      <td>480.0</td>\n",
       "    </tr>\n",
       "  </tbody>\n",
       "</table>\n",
       "</div>"
      ],
      "text/plain": [
       "            Loan_Amount_Term                                             \\\n",
       "                       count        mean        std   min    25%    50%   \n",
       "Loan_Status                                                               \n",
       "0                      143.0  341.790210  73.018891  36.0  360.0  360.0   \n",
       "1                      335.0  341.086567  64.320411  12.0  360.0  360.0   \n",
       "\n",
       "                           \n",
       "               75%    max  \n",
       "Loan_Status                \n",
       "0            360.0  480.0  \n",
       "1            360.0  480.0  "
      ]
     },
     "execution_count": 15,
     "metadata": {},
     "output_type": "execute_result"
    }
   ],
   "source": [
    "df_train[['Loan_Amount_Term', 'Loan_Status']].groupby('Loan_Status').describe()"
   ]
  },
  {
   "cell_type": "code",
   "execution_count": 16,
   "id": "elementary-stroke",
   "metadata": {},
   "outputs": [
    {
     "name": "stdout",
     "output_type": "stream",
     "text": [
      "Percentile 20th: 360.0\n"
     ]
    }
   ],
   "source": [
    "print('Percentile 20th: {}'.format(df_train['Loan_Amount_Term'].quantile(q = 0.2)))"
   ]
  },
  {
   "cell_type": "code",
   "execution_count": 17,
   "id": "burning-cornwall",
   "metadata": {},
   "outputs": [],
   "source": [
    "# Replace missing values with \"360\"\n",
    "df_train['Loan_Amount_Term'].fillna(value = 360, inplace = True)"
   ]
  },
  {
   "cell_type": "markdown",
   "id": "english-cargo",
   "metadata": {},
   "source": [
    "##### `Credit_History`"
   ]
  },
  {
   "cell_type": "code",
   "execution_count": 18,
   "id": "standard-sauce",
   "metadata": {},
   "outputs": [
    {
     "data": {
      "text/html": [
       "<div>\n",
       "<style scoped>\n",
       "    .dataframe tbody tr th:only-of-type {\n",
       "        vertical-align: middle;\n",
       "    }\n",
       "\n",
       "    .dataframe tbody tr th {\n",
       "        vertical-align: top;\n",
       "    }\n",
       "\n",
       "    .dataframe thead th {\n",
       "        text-align: right;\n",
       "    }\n",
       "</style>\n",
       "<table border=\"1\" class=\"dataframe\">\n",
       "  <thead>\n",
       "    <tr style=\"text-align: right;\">\n",
       "      <th></th>\n",
       "      <th>Credit History</th>\n",
       "      <th>No</th>\n",
       "      <th>Yes</th>\n",
       "      <th>All</th>\n",
       "    </tr>\n",
       "  </thead>\n",
       "  <tbody>\n",
       "    <tr>\n",
       "      <th>0</th>\n",
       "      <td>0.0</td>\n",
       "      <td>62</td>\n",
       "      <td>6</td>\n",
       "      <td>68</td>\n",
       "    </tr>\n",
       "    <tr>\n",
       "      <th>1</th>\n",
       "      <td>1.0</td>\n",
       "      <td>74</td>\n",
       "      <td>306</td>\n",
       "      <td>380</td>\n",
       "    </tr>\n",
       "  </tbody>\n",
       "</table>\n",
       "</div>"
      ],
      "text/plain": [
       "  Credit History  No  Yes  All\n",
       "0            0.0  62    6   68\n",
       "1            1.0  74  306  380"
      ]
     },
     "execution_count": 18,
     "metadata": {},
     "output_type": "execute_result"
    }
   ],
   "source": [
    "# Cross tabulation of credit history and loan status\n",
    "df_cred_hist = pd.crosstab(df_train['Credit_History'], df_train['Loan_Status'], margins = True).reset_index()\n",
    "# Remove index name\n",
    "df_cred_hist.columns.name = None\n",
    "# Remove last row for total column attribute\n",
    "df_cred_hist = df_cred_hist.drop([len(df_cred_hist) - 1], axis = 0)\n",
    "df_cred_hist.rename(columns = {'Credit_History':'Credit History', 0:'No', 1:'Yes'}, inplace = True)\n",
    "df_cred_hist"
   ]
  },
  {
   "cell_type": "code",
   "execution_count": 19,
   "id": "analyzed-setup",
   "metadata": {},
   "outputs": [
    {
     "name": "stdout",
     "output_type": "stream",
     "text": [
      "Number of rows with Loan_Status is No but Credit_History is NaN  : 12\n",
      "Number of rows with Loan_Status is Yes but Credit_History is NaN : 31\n"
     ]
    }
   ],
   "source": [
    "# Slice the data frame based on loan status\n",
    "pos_cred_hist0 = df_train[(df_train['Credit_History'].isna()) & (df_train['Loan_Status'] == 0)]\n",
    "pos_cred_hist1 = df_train[(df_train['Credit_History'].isna()) & (df_train['Loan_Status'] == 1)]\n",
    "print('Number of rows with Loan_Status is No but Credit_History is NaN  : {}'.format(len(pos_cred_hist0)))\n",
    "print('Number of rows with Loan_Status is Yes but Credit_History is NaN : {}'.format(len(pos_cred_hist1)))"
   ]
  },
  {
   "cell_type": "code",
   "execution_count": 20,
   "id": "metric-shield",
   "metadata": {},
   "outputs": [],
   "source": [
    "# Replace the missing values with a specific condition\n",
    "credit_loan = zip(df_train['Credit_History'], df_train['Loan_Status'])\n",
    "df_train['Credit_History'] = [\n",
    "                                0.0 if np.isnan(credit) and status == 0 else\n",
    "                                1.0 if np.isnan(credit) and status == 1 else\n",
    "                                credit for credit, status in credit_loan\n",
    "                             ]"
   ]
  },
  {
   "cell_type": "markdown",
   "id": "unauthorized-growth",
   "metadata": {},
   "source": [
    "##### `Gender` and `Loan Amount`"
   ]
  },
  {
   "cell_type": "code",
   "execution_count": 21,
   "id": "south-amber",
   "metadata": {},
   "outputs": [],
   "source": [
    "# Drop missing values\n",
    "df_train.dropna(axis = 0, how = 'any', inplace = True)"
   ]
  },
  {
   "cell_type": "code",
   "execution_count": 22,
   "id": "applicable-thread",
   "metadata": {},
   "outputs": [
    {
     "data": {
      "text/plain": [
       "Loan_ID              0\n",
       "Gender               0\n",
       "Married              0\n",
       "Dependents           0\n",
       "Education            0\n",
       "Self_Employed        0\n",
       "ApplicantIncome      0\n",
       "CoapplicantIncome    0\n",
       "LoanAmount           0\n",
       "Loan_Amount_Term     0\n",
       "Credit_History       0\n",
       "Property_Area        0\n",
       "Loan_Status          0\n",
       "dtype: int64"
      ]
     },
     "execution_count": 22,
     "metadata": {},
     "output_type": "execute_result"
    }
   ],
   "source": [
    "# Check missing value\n",
    "df_train.isna().sum()"
   ]
  },
  {
   "cell_type": "markdown",
   "id": "sustainable-fence",
   "metadata": {},
   "source": [
    "### Testing data"
   ]
  },
  {
   "cell_type": "markdown",
   "id": "naked-wright",
   "metadata": {},
   "source": [
    "#### Scale measurement"
   ]
  },
  {
   "cell_type": "code",
   "execution_count": 23,
   "id": "compatible-structure",
   "metadata": {
    "scrolled": false
   },
   "outputs": [
    {
     "name": "stdout",
     "output_type": "stream",
     "text": [
      "<class 'pandas.core.frame.DataFrame'>\n",
      "RangeIndex: 123 entries, 0 to 122\n",
      "Data columns (total 12 columns):\n",
      " #   Column             Non-Null Count  Dtype  \n",
      "---  ------             --------------  -----  \n",
      " 0   Loan_ID            123 non-null    object \n",
      " 1   Gender             120 non-null    object \n",
      " 2   Married            121 non-null    object \n",
      " 3   Dependents         117 non-null    object \n",
      " 4   Education          123 non-null    object \n",
      " 5   Self_Employed      120 non-null    object \n",
      " 6   ApplicantIncome    123 non-null    int64  \n",
      " 7   CoapplicantIncome  123 non-null    float64\n",
      " 8   LoanAmount         117 non-null    float64\n",
      " 9   Loan_Amount_Term   122 non-null    float64\n",
      " 10  Credit_History     116 non-null    float64\n",
      " 11  Property_Area      123 non-null    object \n",
      "dtypes: float64(4), int64(1), object(7)\n",
      "memory usage: 11.7+ KB\n"
     ]
    }
   ],
   "source": [
    "# Data frame metadata\n",
    "df_test.info()"
   ]
  },
  {
   "cell_type": "code",
   "execution_count": 24,
   "id": "developing-gabriel",
   "metadata": {},
   "outputs": [
    {
     "data": {
      "text/plain": [
       "Loan_ID           object\n",
       "Gender            object\n",
       "Married           object\n",
       "Dependents        object\n",
       "Education         object\n",
       "Self_Employed     object\n",
       "Credit_History    object\n",
       "Property_Area     object\n",
       "dtype: object"
      ]
     },
     "execution_count": 24,
     "metadata": {},
     "output_type": "execute_result"
    }
   ],
   "source": [
    "# Change column types\n",
    "df_test = df_test.astype({'Credit_History': object})\n",
    "df_test.select_dtypes(include = ['object']).dtypes"
   ]
  },
  {
   "cell_type": "code",
   "execution_count": 25,
   "id": "friendly-chair",
   "metadata": {
    "scrolled": true
   },
   "outputs": [
    {
     "name": "stdout",
     "output_type": "stream",
     "text": [
      "Loan_ID\n",
      "LP001116    1\n",
      "LP001488    1\n",
      "LP002138    1\n",
      "LP002284    1\n",
      "LP002328    1\n",
      "           ..\n",
      "LP002683    1\n",
      "LP002054    1\n",
      "LP002757    1\n",
      "LP002582    1\n",
      "LP001616    1\n",
      "Name: count, Length: 123, dtype: int64 \n",
      "\n",
      "Gender\n",
      "Male      96\n",
      "Female    24\n",
      "Name: count, dtype: int64 \n",
      "\n",
      "Married\n",
      "Yes    74\n",
      "No     47\n",
      "Name: count, dtype: int64 \n",
      "\n",
      "Dependents\n",
      "0     69\n",
      "2     23\n",
      "1     17\n",
      "3+     8\n",
      "Name: count, dtype: int64 \n",
      "\n",
      "Education\n",
      "Graduate        92\n",
      "Not Graduate    31\n",
      "Name: count, dtype: int64 \n",
      "\n",
      "Self_Employed\n",
      "No     102\n",
      "Yes     18\n",
      "Name: count, dtype: int64 \n",
      "\n",
      "Credit_History\n",
      "1.0    95\n",
      "0.0    21\n",
      "Name: count, dtype: int64 \n",
      "\n",
      "Property_Area\n",
      "Semiurban    47\n",
      "Urban        47\n",
      "Rural        29\n",
      "Name: count, dtype: int64 \n",
      "\n"
     ]
    }
   ],
   "source": [
    "# Summary statistics of categorical columns\n",
    "for i in df_test.select_dtypes('object').columns:\n",
    "    print(df_test[i].value_counts(),'\\n')"
   ]
  },
  {
   "cell_type": "markdown",
   "id": "historical-light",
   "metadata": {},
   "source": [
    "#### Handle missing values"
   ]
  },
  {
   "cell_type": "code",
   "execution_count": 26,
   "id": "norman-quarter",
   "metadata": {},
   "outputs": [
    {
     "data": {
      "text/plain": [
       "Loan_ID              0\n",
       "Gender               3\n",
       "Married              2\n",
       "Dependents           6\n",
       "Education            0\n",
       "Self_Employed        3\n",
       "ApplicantIncome      0\n",
       "CoapplicantIncome    0\n",
       "LoanAmount           6\n",
       "Loan_Amount_Term     1\n",
       "Credit_History       7\n",
       "Property_Area        0\n",
       "dtype: int64"
      ]
     },
     "execution_count": 26,
     "metadata": {},
     "output_type": "execute_result"
    }
   ],
   "source": [
    "# Check missing values\n",
    "df_test.isna().sum()"
   ]
  },
  {
   "cell_type": "markdown",
   "id": "naked-member",
   "metadata": {},
   "source": [
    "##### `Dependents`"
   ]
  },
  {
   "cell_type": "code",
   "execution_count": 27,
   "id": "meaningful-exception",
   "metadata": {},
   "outputs": [
    {
     "name": "stdout",
     "output_type": "stream",
     "text": [
      "Number of missing values in Dependents is about 6 rows\n"
     ]
    }
   ],
   "source": [
    "print('Number of missing values in Dependents is about {} rows'.format(df_test['Dependents'].isna().sum()))"
   ]
  },
  {
   "cell_type": "code",
   "execution_count": 28,
   "id": "mysterious-digit",
   "metadata": {},
   "outputs": [],
   "source": [
    "# Replace missing values with \"0\"\n",
    "df_test['Dependents'].fillna(value = '0', inplace = True)"
   ]
  },
  {
   "cell_type": "markdown",
   "id": "outer-canal",
   "metadata": {},
   "source": [
    "##### `Self_Employed`"
   ]
  },
  {
   "cell_type": "code",
   "execution_count": 29,
   "id": "ready-lawyer",
   "metadata": {},
   "outputs": [
    {
     "name": "stdout",
     "output_type": "stream",
     "text": [
      "Number of missing values in Self_Employed is about 3 rows\n"
     ]
    }
   ],
   "source": [
    "print('Number of missing values in Self_Employed is about {} rows'.format(df_test['Self_Employed'].isna().sum()))"
   ]
  },
  {
   "cell_type": "code",
   "execution_count": 30,
   "id": "agricultural-brisbane",
   "metadata": {},
   "outputs": [],
   "source": [
    "# Replace missing values with \"No\"\n",
    "df_test['Self_Employed'].fillna(value = 'No', inplace = True) "
   ]
  },
  {
   "cell_type": "markdown",
   "id": "demanding-baseline",
   "metadata": {},
   "source": [
    "##### `Loan_Amount_Term`"
   ]
  },
  {
   "cell_type": "code",
   "execution_count": 31,
   "id": "genetic-motor",
   "metadata": {},
   "outputs": [],
   "source": [
    "# Replace missing values with \"360\"\n",
    "df_test['Loan_Amount_Term'].fillna(value = 360, inplace = True)"
   ]
  },
  {
   "cell_type": "markdown",
   "id": "thrown-performer",
   "metadata": {},
   "source": [
    "##### `Gender`, `Married`, `LoanAmount` and `Credit_History`"
   ]
  },
  {
   "cell_type": "code",
   "execution_count": 32,
   "id": "incomplete-asbestos",
   "metadata": {},
   "outputs": [],
   "source": [
    "# Drop missing values\n",
    "df_test.dropna(axis = 0, how = 'any', inplace = True)"
   ]
  },
  {
   "cell_type": "code",
   "execution_count": 33,
   "id": "neural-label",
   "metadata": {},
   "outputs": [
    {
     "data": {
      "text/plain": [
       "Loan_ID              0\n",
       "Gender               0\n",
       "Married              0\n",
       "Dependents           0\n",
       "Education            0\n",
       "Self_Employed        0\n",
       "ApplicantIncome      0\n",
       "CoapplicantIncome    0\n",
       "LoanAmount           0\n",
       "Loan_Amount_Term     0\n",
       "Credit_History       0\n",
       "Property_Area        0\n",
       "dtype: int64"
      ]
     },
     "execution_count": 33,
     "metadata": {},
     "output_type": "execute_result"
    }
   ],
   "source": [
    "# Check missing values\n",
    "df_test.isna().sum()"
   ]
  },
  {
   "cell_type": "markdown",
   "id": "pending-collectible",
   "metadata": {},
   "source": [
    "## Explanatory data analysis"
   ]
  },
  {
   "cell_type": "markdown",
   "id": "black-dragon",
   "metadata": {},
   "source": [
    "### The composition of default and not default customers"
   ]
  },
  {
   "cell_type": "code",
   "execution_count": 34,
   "id": "single-flight",
   "metadata": {},
   "outputs": [],
   "source": [
    "# Data aggregation between default and not default customers\n",
    "df_viz_1 = df_train.groupby(['Loan_Status'])['Loan_ID'].count().reset_index(name = 'Total')\n",
    "# Map the loan status\n",
    "df_viz_1['Loan_Status'] = df_viz_1['Loan_Status'].map(\n",
    "    {\n",
    "        0: 'Not default',\n",
    "        1: 'Default'\n",
    "    }\n",
    ")"
   ]
  },
  {
   "cell_type": "code",
   "execution_count": 35,
   "id": "considerable-stadium",
   "metadata": {},
   "outputs": [
    {
     "data": {
      "text/html": [
       "<div>\n",
       "<style scoped>\n",
       "    .dataframe tbody tr th:only-of-type {\n",
       "        vertical-align: middle;\n",
       "    }\n",
       "\n",
       "    .dataframe tbody tr th {\n",
       "        vertical-align: top;\n",
       "    }\n",
       "\n",
       "    .dataframe thead th {\n",
       "        text-align: right;\n",
       "    }\n",
       "</style>\n",
       "<table border=\"1\" class=\"dataframe\">\n",
       "  <thead>\n",
       "    <tr style=\"text-align: right;\">\n",
       "      <th></th>\n",
       "      <th>Loan_Status</th>\n",
       "      <th>Total</th>\n",
       "    </tr>\n",
       "  </thead>\n",
       "  <tbody>\n",
       "    <tr>\n",
       "      <th>0</th>\n",
       "      <td>Not default</td>\n",
       "      <td>134</td>\n",
       "    </tr>\n",
       "    <tr>\n",
       "      <th>1</th>\n",
       "      <td>Default</td>\n",
       "      <td>330</td>\n",
       "    </tr>\n",
       "  </tbody>\n",
       "</table>\n",
       "</div>"
      ],
      "text/plain": [
       "   Loan_Status  Total\n",
       "0  Not default    134\n",
       "1      Default    330"
      ]
     },
     "execution_count": 35,
     "metadata": {},
     "output_type": "execute_result"
    }
   ],
   "source": [
    "# Show the data\n",
    "df_viz_1"
   ]
  },
  {
   "cell_type": "code",
   "execution_count": 36,
   "id": "featured-healing",
   "metadata": {},
   "outputs": [
    {
     "data": {
      "image/png": "[encoded data removed]",
      "text/plain": [
       "<Figure size 640x480 with 1 Axes>"
      ]
     },
     "metadata": {},
     "output_type": "display_data"
    }
   ],
   "source": [
    "# Figure size\n",
    "plt.figure(figsize = (6.4,4.8))\n",
    "\n",
    "# Customize colors and other settings\n",
    "colors = ['#80797c','#981220']\n",
    "\n",
    "# Explode 1st slice\n",
    "explode = (0.1, 0)\n",
    "\n",
    "# Create a pie chart\n",
    "plt.pie(\n",
    "    x = 'Total',\n",
    "    labels = 'Loan_Status',\n",
    "    data = df_viz_1,\n",
    "    explode = explode,\n",
    "    colors = colors,\n",
    "    autopct = '%1.1f%%',\n",
    "    shadow = False,\n",
    "    startangle = 140\n",
    ")\n",
    "\n",
    "# Title and axis\n",
    "plt.title('Number of customers by loan status', fontsize = 18)\n",
    "plt.axis('equal')\n",
    "plt.show()"
   ]
  },
  {
   "cell_type": "markdown",
   "id": "velvet-clark",
   "metadata": {},
   "source": [
    "### The composition of loan status by the dependents"
   ]
  },
  {
   "cell_type": "code",
   "execution_count": 37,
   "id": "coral-liberty",
   "metadata": {},
   "outputs": [],
   "source": [
    "# Data aggregation between loan status and dependents\n",
    "df_viz_2 = df_train.groupby(['Loan_Status', 'Dependents'])['Loan_ID'].count().reset_index(name = 'Total')\n",
    "# Map the loan status\n",
    "df_viz_2['Loan_Status'] = df_viz_2['Loan_Status'].map(\n",
    "    {\n",
    "        0: 'Not default',\n",
    "        1: 'Default'\n",
    "    }\n",
    ")"
   ]
  },
  {
   "cell_type": "code",
   "execution_count": 38,
   "id": "limited-biotechnology",
   "metadata": {},
   "outputs": [
    {
     "data": {
      "text/html": [
       "<div>\n",
       "<style scoped>\n",
       "    .dataframe tbody tr th:only-of-type {\n",
       "        vertical-align: middle;\n",
       "    }\n",
       "\n",
       "    .dataframe tbody tr th {\n",
       "        vertical-align: top;\n",
       "    }\n",
       "\n",
       "    .dataframe thead th {\n",
       "        text-align: right;\n",
       "    }\n",
       "</style>\n",
       "<table border=\"1\" class=\"dataframe\">\n",
       "  <thead>\n",
       "    <tr style=\"text-align: right;\">\n",
       "      <th></th>\n",
       "      <th>Loan_Status</th>\n",
       "      <th>Dependents</th>\n",
       "      <th>Total</th>\n",
       "    </tr>\n",
       "  </thead>\n",
       "  <tbody>\n",
       "    <tr>\n",
       "      <th>0</th>\n",
       "      <td>Not default</td>\n",
       "      <td>0</td>\n",
       "      <td>77</td>\n",
       "    </tr>\n",
       "    <tr>\n",
       "      <th>1</th>\n",
       "      <td>Not default</td>\n",
       "      <td>1</td>\n",
       "      <td>30</td>\n",
       "    </tr>\n",
       "    <tr>\n",
       "      <th>2</th>\n",
       "      <td>Not default</td>\n",
       "      <td>2</td>\n",
       "      <td>13</td>\n",
       "    </tr>\n",
       "    <tr>\n",
       "      <th>3</th>\n",
       "      <td>Not default</td>\n",
       "      <td>3+</td>\n",
       "      <td>14</td>\n",
       "    </tr>\n",
       "    <tr>\n",
       "      <th>4</th>\n",
       "      <td>Default</td>\n",
       "      <td>0</td>\n",
       "      <td>191</td>\n",
       "    </tr>\n",
       "    <tr>\n",
       "      <th>5</th>\n",
       "      <td>Default</td>\n",
       "      <td>1</td>\n",
       "      <td>52</td>\n",
       "    </tr>\n",
       "    <tr>\n",
       "      <th>6</th>\n",
       "      <td>Default</td>\n",
       "      <td>2</td>\n",
       "      <td>62</td>\n",
       "    </tr>\n",
       "    <tr>\n",
       "      <th>7</th>\n",
       "      <td>Default</td>\n",
       "      <td>3+</td>\n",
       "      <td>25</td>\n",
       "    </tr>\n",
       "  </tbody>\n",
       "</table>\n",
       "</div>"
      ],
      "text/plain": [
       "   Loan_Status Dependents  Total\n",
       "0  Not default          0     77\n",
       "1  Not default          1     30\n",
       "2  Not default          2     13\n",
       "3  Not default         3+     14\n",
       "4      Default          0    191\n",
       "5      Default          1     52\n",
       "6      Default          2     62\n",
       "7      Default         3+     25"
      ]
     },
     "execution_count": 38,
     "metadata": {},
     "output_type": "execute_result"
    }
   ],
   "source": [
    "# Show the data\n",
    "df_viz_2"
   ]
  },
  {
   "cell_type": "code",
   "execution_count": 39,
   "id": "pending-joyce",
   "metadata": {},
   "outputs": [
    {
     "data": {
      "image/png": "[encoded data removed]"
     },
     "metadata": {
      "image/png": {
       "height": 480,
       "width": 800
      }
     },
     "output_type": "display_data"
    }
   ],
   "source": [
    "plotnine.options.figure_size = (8, 4.8)\n",
    "(\n",
    "    ggplot(\n",
    "        data = df_viz_2\n",
    "    )+\n",
    "    geom_bar(\n",
    "        aes(\n",
    "            x = 'Dependents',\n",
    "            y = 'Total',\n",
    "            fill = 'Loan_Status'\n",
    "        ),\n",
    "        stat = 'identity',\n",
    "        position = 'fill',\n",
    "        width = 0.5\n",
    "    )+\n",
    "    labs(\n",
    "        title = 'The composition of loan status by the dependents',\n",
    "        fill = 'Loan status'\n",
    "    )+\n",
    "    xlab(\n",
    "        'Dependents'\n",
    "    )+\n",
    "    ylab(\n",
    "        'Frequency'\n",
    "    )+\n",
    "    scale_x_discrete(\n",
    "        limits = ['0', '1', '2', '3+']\n",
    "    )+\n",
    "    scale_fill_manual(\n",
    "        values = ['#981220','#80797c'],\n",
    "        labels = ['Default', 'Not Default']\n",
    "    )+\n",
    "    theme_minimal()\n",
    ")"
   ]
  },
  {
   "cell_type": "markdown",
   "id": "dutch-haven",
   "metadata": {},
   "source": [
    "### The composition of default customer by the educations"
   ]
  },
  {
   "cell_type": "code",
   "execution_count": 40,
   "id": "nervous-likelihood",
   "metadata": {},
   "outputs": [],
   "source": [
    "# Data aggregation between loan status and dependents\n",
    "df_viz_3 = df_train.groupby(['Loan_Status', 'Education'])['Loan_ID'].count().reset_index(name = 'Total')\n",
    "# Map the loan status\n",
    "df_viz_3['Loan_Status'] = df_viz_3['Loan_Status'].map(\n",
    "    {\n",
    "        0: 'Not default',\n",
    "        1: 'Default'\n",
    "    }\n",
    ")"
   ]
  },
  {
   "cell_type": "code",
   "execution_count": 62,
   "id": "mechanical-expansion",
   "metadata": {},
   "outputs": [
    {
     "data": {
      "text/html": [
       "<div>\n",
       "<style scoped>\n",
       "    .dataframe tbody tr th:only-of-type {\n",
       "        vertical-align: middle;\n",
       "    }\n",
       "\n",
       "    .dataframe tbody tr th {\n",
       "        vertical-align: top;\n",
       "    }\n",
       "\n",
       "    .dataframe thead th {\n",
       "        text-align: right;\n",
       "    }\n",
       "</style>\n",
       "<table border=\"1\" class=\"dataframe\">\n",
       "  <thead>\n",
       "    <tr style=\"text-align: right;\">\n",
       "      <th></th>\n",
       "      <th>Loan_Status</th>\n",
       "      <th>Education</th>\n",
       "      <th>Total</th>\n",
       "    </tr>\n",
       "  </thead>\n",
       "  <tbody>\n",
       "    <tr>\n",
       "      <th>0</th>\n",
       "      <td>Not default</td>\n",
       "      <td>Graduate</td>\n",
       "      <td>101</td>\n",
       "    </tr>\n",
       "    <tr>\n",
       "      <th>1</th>\n",
       "      <td>Not default</td>\n",
       "      <td>Not Graduate</td>\n",
       "      <td>33</td>\n",
       "    </tr>\n",
       "    <tr>\n",
       "      <th>2</th>\n",
       "      <td>Default</td>\n",
       "      <td>Graduate</td>\n",
       "      <td>266</td>\n",
       "    </tr>\n",
       "    <tr>\n",
       "      <th>3</th>\n",
       "      <td>Default</td>\n",
       "      <td>Not Graduate</td>\n",
       "      <td>64</td>\n",
       "    </tr>\n",
       "  </tbody>\n",
       "</table>\n",
       "</div>"
      ],
      "text/plain": [
       "   Loan_Status     Education  Total\n",
       "0  Not default      Graduate    101\n",
       "1  Not default  Not Graduate     33\n",
       "2      Default      Graduate    266\n",
       "3      Default  Not Graduate     64"
      ]
     },
     "execution_count": 62,
     "metadata": {},
     "output_type": "execute_result"
    }
   ],
   "source": [
    "# Show the data\n",
    "df_viz_3"
   ]
  },
  {
   "cell_type": "code",
   "execution_count": 41,
   "id": "cross-johnston",
   "metadata": {
    "scrolled": false
   },
   "outputs": [
    {
     "data": {
      "image/png": "[encoded data removed]"
     },
     "metadata": {
      "image/png": {
       "height": 480,
       "width": 800
      }
     },
     "output_type": "display_data"
    }
   ],
   "source": [
    "plotnine.options.figure_size = (8, 4.8)\n",
    "(\n",
    "    ggplot(\n",
    "        data = df_viz_3\n",
    "    )+\n",
    "    geom_bar(\n",
    "        aes(\n",
    "            x = 'Education',\n",
    "            y = 'Total',\n",
    "            fill = 'Loan_Status'\n",
    "        ),\n",
    "        stat = 'identity',\n",
    "        position = 'fill',\n",
    "        width = 0.5\n",
    "    )+\n",
    "    labs(\n",
    "        title = 'The composition of loan status by the education',\n",
    "        fill = 'Loan status'\n",
    "    )+\n",
    "    xlab(\n",
    "        'Educations'\n",
    "    )+\n",
    "    ylab(\n",
    "        'Frequency'\n",
    "    )+\n",
    "    scale_x_discrete(\n",
    "        limits = ['Graduate', 'Not Graduate']\n",
    "    )+\n",
    "    scale_fill_manual(\n",
    "        values = ['#981220','#80797c'],\n",
    "        labels = ['Default', 'Not Default']\n",
    "    )+\n",
    "    theme_minimal()\n",
    ")"
   ]
  },
  {
   "cell_type": "markdown",
   "id": "operational-engine",
   "metadata": {},
   "source": [
    "### The distribution of applicant incomes by loan status"
   ]
  },
  {
   "cell_type": "code",
   "execution_count": 42,
   "id": "charged-trader",
   "metadata": {},
   "outputs": [],
   "source": [
    "# Slice the columns\n",
    "df_viz_4 = df_train[['ApplicantIncome', 'Loan_Status']].reset_index(drop = True)\n",
    "# Map the loan status\n",
    "df_viz_4['Loan_Status'] = df_viz_4['Loan_Status'].map(\n",
    "    {\n",
    "        0: 'Not default',\n",
    "        1: 'Default'\n",
    "    }\n",
    ")"
   ]
  },
  {
   "cell_type": "code",
   "execution_count": 43,
   "id": "strategic-tokyo",
   "metadata": {},
   "outputs": [
    {
     "data": {
      "text/html": [
       "<div>\n",
       "<style scoped>\n",
       "    .dataframe tbody tr th:only-of-type {\n",
       "        vertical-align: middle;\n",
       "    }\n",
       "\n",
       "    .dataframe tbody tr th {\n",
       "        vertical-align: top;\n",
       "    }\n",
       "\n",
       "    .dataframe thead th {\n",
       "        text-align: right;\n",
       "    }\n",
       "</style>\n",
       "<table border=\"1\" class=\"dataframe\">\n",
       "  <thead>\n",
       "    <tr style=\"text-align: right;\">\n",
       "      <th></th>\n",
       "      <th>ApplicantIncome</th>\n",
       "      <th>Loan_Status</th>\n",
       "    </tr>\n",
       "  </thead>\n",
       "  <tbody>\n",
       "    <tr>\n",
       "      <th>0</th>\n",
       "      <td>4547</td>\n",
       "      <td>Default</td>\n",
       "    </tr>\n",
       "    <tr>\n",
       "      <th>1</th>\n",
       "      <td>5703</td>\n",
       "      <td>Default</td>\n",
       "    </tr>\n",
       "    <tr>\n",
       "      <th>2</th>\n",
       "      <td>4333</td>\n",
       "      <td>Not default</td>\n",
       "    </tr>\n",
       "    <tr>\n",
       "      <th>3</th>\n",
       "      <td>4695</td>\n",
       "      <td>Default</td>\n",
       "    </tr>\n",
       "    <tr>\n",
       "      <th>4</th>\n",
       "      <td>6700</td>\n",
       "      <td>Default</td>\n",
       "    </tr>\n",
       "  </tbody>\n",
       "</table>\n",
       "</div>"
      ],
      "text/plain": [
       "   ApplicantIncome  Loan_Status\n",
       "0             4547      Default\n",
       "1             5703      Default\n",
       "2             4333  Not default\n",
       "3             4695      Default\n",
       "4             6700      Default"
      ]
     },
     "execution_count": 43,
     "metadata": {},
     "output_type": "execute_result"
    }
   ],
   "source": [
    "# Show the data\n",
    "df_viz_4.head()"
   ]
  },
  {
   "cell_type": "code",
   "execution_count": 45,
   "id": "figured-level",
   "metadata": {
    "scrolled": false
   },
   "outputs": [
    {
     "data": {
      "image/png": "[encoded data removed]"
     },
     "metadata": {
      "image/png": {
       "height": 480,
       "width": 800
      }
     },
     "output_type": "display_data"
    }
   ],
   "source": [
    "plotnine.options.figure_size = (8, 4.8)\n",
    "(\n",
    "    ggplot(\n",
    "        data = df_viz_4\n",
    "    )+\n",
    "    geom_density(\n",
    "        aes(\n",
    "            x = 'ApplicantIncome',\n",
    "            fill = 'Loan_Status'\n",
    "        ),\n",
    "        color = 'white',\n",
    "        alpha = 0.85\n",
    "    )+\n",
    "    labs(\n",
    "        title = 'The distribution of applicant incomes by loan status'\n",
    "    )+\n",
    "    scale_fill_manual(\n",
    "        name = 'Loan Status',\n",
    "        values = ['#981220','#80797c'],\n",
    "        labels = ['Default', 'Not Default']\n",
    "    )+\n",
    "    xlab(\n",
    "        'Applicant income'\n",
    "    )+\n",
    "    ylab(\n",
    "        'Density'\n",
    "    )+\n",
    "    theme_minimal()\n",
    ")"
   ]
  },
  {
   "cell_type": "markdown",
   "id": "antique-invalid",
   "metadata": {},
   "source": [
    "### The distribution of loan amount by loan status"
   ]
  },
  {
   "cell_type": "code",
   "execution_count": 46,
   "id": "scientific-cleaner",
   "metadata": {},
   "outputs": [],
   "source": [
    "# Slice the columns\n",
    "df_viz_5 = df_train[['LoanAmount', 'Loan_Status']].reset_index(drop = True)\n",
    "# Map the loan status\n",
    "df_viz_5['Loan_Status'] = df_viz_5['Loan_Status'].map(\n",
    "    {\n",
    "        0: 'Not default',\n",
    "        1: 'Default'\n",
    "    }\n",
    ")"
   ]
  },
  {
   "cell_type": "code",
   "execution_count": 47,
   "id": "legendary-medline",
   "metadata": {},
   "outputs": [
    {
     "data": {
      "text/html": [
       "<div>\n",
       "<style scoped>\n",
       "    .dataframe tbody tr th:only-of-type {\n",
       "        vertical-align: middle;\n",
       "    }\n",
       "\n",
       "    .dataframe tbody tr th {\n",
       "        vertical-align: top;\n",
       "    }\n",
       "\n",
       "    .dataframe thead th {\n",
       "        text-align: right;\n",
       "    }\n",
       "</style>\n",
       "<table border=\"1\" class=\"dataframe\">\n",
       "  <thead>\n",
       "    <tr style=\"text-align: right;\">\n",
       "      <th></th>\n",
       "      <th>LoanAmount</th>\n",
       "      <th>Loan_Status</th>\n",
       "    </tr>\n",
       "  </thead>\n",
       "  <tbody>\n",
       "    <tr>\n",
       "      <th>0</th>\n",
       "      <td>115.0</td>\n",
       "      <td>Default</td>\n",
       "    </tr>\n",
       "    <tr>\n",
       "      <th>1</th>\n",
       "      <td>130.0</td>\n",
       "      <td>Default</td>\n",
       "    </tr>\n",
       "    <tr>\n",
       "      <th>2</th>\n",
       "      <td>110.0</td>\n",
       "      <td>Not default</td>\n",
       "    </tr>\n",
       "    <tr>\n",
       "      <th>3</th>\n",
       "      <td>96.0</td>\n",
       "      <td>Default</td>\n",
       "    </tr>\n",
       "    <tr>\n",
       "      <th>4</th>\n",
       "      <td>230.0</td>\n",
       "      <td>Default</td>\n",
       "    </tr>\n",
       "  </tbody>\n",
       "</table>\n",
       "</div>"
      ],
      "text/plain": [
       "   LoanAmount  Loan_Status\n",
       "0       115.0      Default\n",
       "1       130.0      Default\n",
       "2       110.0  Not default\n",
       "3        96.0      Default\n",
       "4       230.0      Default"
      ]
     },
     "execution_count": 47,
     "metadata": {},
     "output_type": "execute_result"
    }
   ],
   "source": [
    "# Show the data\n",
    "df_viz_5.head()"
   ]
  },
  {
   "cell_type": "code",
   "execution_count": 48,
   "id": "overhead-guarantee",
   "metadata": {
    "scrolled": false
   },
   "outputs": [
    {
     "data": {
      "image/png": "[encoded data removed]"
     },
     "metadata": {
      "image/png": {
       "height": 480,
       "width": 800
      }
     },
     "output_type": "display_data"
    }
   ],
   "source": [
    "plotnine.options.figure_size = (8, 4.8)\n",
    "(\n",
    "    ggplot(\n",
    "        data = df_viz_5\n",
    "    )+\n",
    "    geom_density(\n",
    "        aes(\n",
    "            x = 'LoanAmount',\n",
    "            fill = 'Loan_Status'\n",
    "        ),\n",
    "        color = 'white',\n",
    "        alpha = 0.85\n",
    "    )+\n",
    "    labs(\n",
    "        title = 'The distribution of loan amount by loan status'\n",
    "    )+\n",
    "    scale_fill_manual(\n",
    "        name = 'Loan Status',\n",
    "        values = ['#981220','#80797c'],\n",
    "        labels = ['Default', 'Not Default']\n",
    "    )+\n",
    "    xlab(\n",
    "        'Loan amount'\n",
    "    )+\n",
    "    ylab(\n",
    "        'Density'\n",
    "    )+\n",
    "    theme_minimal()\n",
    ")"
   ]
  },
  {
   "cell_type": "markdown",
   "id": "expired-sussex",
   "metadata": {},
   "source": [
    "## One-hot encoder"
   ]
  },
  {
   "cell_type": "code",
   "execution_count": 49,
   "id": "manual-naples",
   "metadata": {},
   "outputs": [],
   "source": [
    "# Add new column of Loan_Status with 999 in testing data\n",
    "df_test['Loan_Status'] = 999\n",
    "# Concat the training and testing data\n",
    "df_concat = pd.concat(objs = [df_train , df_test], axis = 0)"
   ]
  },
  {
   "cell_type": "code",
   "execution_count": 50,
   "id": "moving-notice",
   "metadata": {},
   "outputs": [],
   "source": [
    "# Drop the column of Loan_ID\n",
    "df_concat.drop(columns = ['Loan_ID'], inplace = True)"
   ]
  },
  {
   "cell_type": "code",
   "execution_count": 51,
   "id": "transparent-constitution",
   "metadata": {
    "scrolled": false
   },
   "outputs": [
    {
     "name": "stdout",
     "output_type": "stream",
     "text": [
      "['Gender', 'Married', 'Dependents', 'Education', 'Self_Employed', 'Credit_History', 'Property_Area']\n"
     ]
    }
   ],
   "source": [
    "# Categorical columns\n",
    "cols_obj_train = ['Gender', 'Married', 'Dependents', 'Education', 'Self_Employed', 'Credit_History', 'Property_Area']\n",
    "print(cols_obj_train)"
   ]
  },
  {
   "cell_type": "code",
   "execution_count": 52,
   "id": "limited-accountability",
   "metadata": {
    "scrolled": true
   },
   "outputs": [
    {
     "name": "stdout",
     "output_type": "stream",
     "text": [
      "Dimension data: 570 rows and 15 columns\n"
     ]
    },
    {
     "data": {
      "text/html": [
       "<div>\n",
       "<style scoped>\n",
       "    .dataframe tbody tr th:only-of-type {\n",
       "        vertical-align: middle;\n",
       "    }\n",
       "\n",
       "    .dataframe tbody tr th {\n",
       "        vertical-align: top;\n",
       "    }\n",
       "\n",
       "    .dataframe thead th {\n",
       "        text-align: right;\n",
       "    }\n",
       "</style>\n",
       "<table border=\"1\" class=\"dataframe\">\n",
       "  <thead>\n",
       "    <tr style=\"text-align: right;\">\n",
       "      <th></th>\n",
       "      <th>ApplicantIncome</th>\n",
       "      <th>CoapplicantIncome</th>\n",
       "      <th>LoanAmount</th>\n",
       "      <th>Loan_Amount_Term</th>\n",
       "      <th>Loan_Status</th>\n",
       "      <th>Gender_Male</th>\n",
       "      <th>Married_Yes</th>\n",
       "      <th>Dependents_1</th>\n",
       "      <th>Dependents_2</th>\n",
       "      <th>Dependents_3+</th>\n",
       "      <th>Education_Not Graduate</th>\n",
       "      <th>Self_Employed_Yes</th>\n",
       "      <th>Credit_History_1.0</th>\n",
       "      <th>Property_Area_Semiurban</th>\n",
       "      <th>Property_Area_Urban</th>\n",
       "    </tr>\n",
       "  </thead>\n",
       "  <tbody>\n",
       "    <tr>\n",
       "      <th>0</th>\n",
       "      <td>4547</td>\n",
       "      <td>0.0</td>\n",
       "      <td>115.0</td>\n",
       "      <td>360.0</td>\n",
       "      <td>1</td>\n",
       "      <td>False</td>\n",
       "      <td>False</td>\n",
       "      <td>False</td>\n",
       "      <td>False</td>\n",
       "      <td>False</td>\n",
       "      <td>False</td>\n",
       "      <td>False</td>\n",
       "      <td>True</td>\n",
       "      <td>True</td>\n",
       "      <td>False</td>\n",
       "    </tr>\n",
       "    <tr>\n",
       "      <th>1</th>\n",
       "      <td>5703</td>\n",
       "      <td>0.0</td>\n",
       "      <td>130.0</td>\n",
       "      <td>360.0</td>\n",
       "      <td>1</td>\n",
       "      <td>True</td>\n",
       "      <td>True</td>\n",
       "      <td>False</td>\n",
       "      <td>False</td>\n",
       "      <td>True</td>\n",
       "      <td>True</td>\n",
       "      <td>True</td>\n",
       "      <td>True</td>\n",
       "      <td>False</td>\n",
       "      <td>False</td>\n",
       "    </tr>\n",
       "    <tr>\n",
       "      <th>2</th>\n",
       "      <td>4333</td>\n",
       "      <td>2451.0</td>\n",
       "      <td>110.0</td>\n",
       "      <td>360.0</td>\n",
       "      <td>0</td>\n",
       "      <td>False</td>\n",
       "      <td>True</td>\n",
       "      <td>False</td>\n",
       "      <td>False</td>\n",
       "      <td>False</td>\n",
       "      <td>False</td>\n",
       "      <td>False</td>\n",
       "      <td>True</td>\n",
       "      <td>False</td>\n",
       "      <td>True</td>\n",
       "    </tr>\n",
       "    <tr>\n",
       "      <th>3</th>\n",
       "      <td>4695</td>\n",
       "      <td>0.0</td>\n",
       "      <td>96.0</td>\n",
       "      <td>360.0</td>\n",
       "      <td>1</td>\n",
       "      <td>True</td>\n",
       "      <td>True</td>\n",
       "      <td>False</td>\n",
       "      <td>False</td>\n",
       "      <td>False</td>\n",
       "      <td>True</td>\n",
       "      <td>True</td>\n",
       "      <td>True</td>\n",
       "      <td>False</td>\n",
       "      <td>True</td>\n",
       "    </tr>\n",
       "    <tr>\n",
       "      <th>4</th>\n",
       "      <td>6700</td>\n",
       "      <td>1750.0</td>\n",
       "      <td>230.0</td>\n",
       "      <td>300.0</td>\n",
       "      <td>1</td>\n",
       "      <td>True</td>\n",
       "      <td>True</td>\n",
       "      <td>False</td>\n",
       "      <td>True</td>\n",
       "      <td>False</td>\n",
       "      <td>False</td>\n",
       "      <td>False</td>\n",
       "      <td>True</td>\n",
       "      <td>True</td>\n",
       "      <td>False</td>\n",
       "    </tr>\n",
       "  </tbody>\n",
       "</table>\n",
       "</div>"
      ],
      "text/plain": [
       "   ApplicantIncome  CoapplicantIncome  LoanAmount  Loan_Amount_Term  \\\n",
       "0             4547                0.0       115.0             360.0   \n",
       "1             5703                0.0       130.0             360.0   \n",
       "2             4333             2451.0       110.0             360.0   \n",
       "3             4695                0.0        96.0             360.0   \n",
       "4             6700             1750.0       230.0             300.0   \n",
       "\n",
       "   Loan_Status  Gender_Male  Married_Yes  Dependents_1  Dependents_2  \\\n",
       "0            1        False        False         False         False   \n",
       "1            1         True         True         False         False   \n",
       "2            0        False         True         False         False   \n",
       "3            1         True         True         False         False   \n",
       "4            1         True         True         False          True   \n",
       "\n",
       "   Dependents_3+  Education_Not Graduate  Self_Employed_Yes  \\\n",
       "0          False                   False              False   \n",
       "1           True                    True               True   \n",
       "2          False                   False              False   \n",
       "3          False                    True               True   \n",
       "4          False                   False              False   \n",
       "\n",
       "   Credit_History_1.0  Property_Area_Semiurban  Property_Area_Urban  \n",
       "0                True                     True                False  \n",
       "1                True                    False                False  \n",
       "2                True                    False                 True  \n",
       "3                True                    False                 True  \n",
       "4                True                     True                False  "
      ]
     },
     "execution_count": 52,
     "metadata": {},
     "output_type": "execute_result"
    }
   ],
   "source": [
    "# One-hot encoding\n",
    "df_concat = pd.get_dummies(data = df_concat, columns = cols_obj_train, drop_first = True)\n",
    "print('Dimension data: {} rows and {} columns'.format(len(df_concat), len(df_concat.columns)))\n",
    "df_concat.head()"
   ]
  },
  {
   "cell_type": "markdown",
   "id": "studied-occasion",
   "metadata": {},
   "source": [
    "## Data partitioning"
   ]
  },
  {
   "cell_type": "code",
   "execution_count": 53,
   "id": "filled-lawyer",
   "metadata": {},
   "outputs": [
    {
     "data": {
      "text/plain": [
       "Loan_Status\n",
       "1      330\n",
       "0      134\n",
       "999    106\n",
       "Name: count, dtype: int64"
      ]
     },
     "execution_count": 53,
     "metadata": {},
     "output_type": "execute_result"
    }
   ],
   "source": [
    "# Unique values of Loan_Status\n",
    "df_concat['Loan_Status'].value_counts()"
   ]
  },
  {
   "cell_type": "code",
   "execution_count": 54,
   "id": "automotive-collar",
   "metadata": {
    "scrolled": true
   },
   "outputs": [
    {
     "name": "stdout",
     "output_type": "stream",
     "text": [
      "Dimension data: 464 rows and 15 columns\n"
     ]
    },
    {
     "data": {
      "text/html": [
       "<div>\n",
       "<style scoped>\n",
       "    .dataframe tbody tr th:only-of-type {\n",
       "        vertical-align: middle;\n",
       "    }\n",
       "\n",
       "    .dataframe tbody tr th {\n",
       "        vertical-align: top;\n",
       "    }\n",
       "\n",
       "    .dataframe thead th {\n",
       "        text-align: right;\n",
       "    }\n",
       "</style>\n",
       "<table border=\"1\" class=\"dataframe\">\n",
       "  <thead>\n",
       "    <tr style=\"text-align: right;\">\n",
       "      <th></th>\n",
       "      <th>ApplicantIncome</th>\n",
       "      <th>CoapplicantIncome</th>\n",
       "      <th>LoanAmount</th>\n",
       "      <th>Loan_Amount_Term</th>\n",
       "      <th>Loan_Status</th>\n",
       "      <th>Gender_Male</th>\n",
       "      <th>Married_Yes</th>\n",
       "      <th>Dependents_1</th>\n",
       "      <th>Dependents_2</th>\n",
       "      <th>Dependents_3+</th>\n",
       "      <th>Education_Not Graduate</th>\n",
       "      <th>Self_Employed_Yes</th>\n",
       "      <th>Credit_History_1.0</th>\n",
       "      <th>Property_Area_Semiurban</th>\n",
       "      <th>Property_Area_Urban</th>\n",
       "    </tr>\n",
       "  </thead>\n",
       "  <tbody>\n",
       "    <tr>\n",
       "      <th>0</th>\n",
       "      <td>4547</td>\n",
       "      <td>0.0</td>\n",
       "      <td>115.0</td>\n",
       "      <td>360.0</td>\n",
       "      <td>1</td>\n",
       "      <td>False</td>\n",
       "      <td>False</td>\n",
       "      <td>False</td>\n",
       "      <td>False</td>\n",
       "      <td>False</td>\n",
       "      <td>False</td>\n",
       "      <td>False</td>\n",
       "      <td>True</td>\n",
       "      <td>True</td>\n",
       "      <td>False</td>\n",
       "    </tr>\n",
       "    <tr>\n",
       "      <th>1</th>\n",
       "      <td>5703</td>\n",
       "      <td>0.0</td>\n",
       "      <td>130.0</td>\n",
       "      <td>360.0</td>\n",
       "      <td>1</td>\n",
       "      <td>True</td>\n",
       "      <td>True</td>\n",
       "      <td>False</td>\n",
       "      <td>False</td>\n",
       "      <td>True</td>\n",
       "      <td>True</td>\n",
       "      <td>True</td>\n",
       "      <td>True</td>\n",
       "      <td>False</td>\n",
       "      <td>False</td>\n",
       "    </tr>\n",
       "    <tr>\n",
       "      <th>2</th>\n",
       "      <td>4333</td>\n",
       "      <td>2451.0</td>\n",
       "      <td>110.0</td>\n",
       "      <td>360.0</td>\n",
       "      <td>0</td>\n",
       "      <td>False</td>\n",
       "      <td>True</td>\n",
       "      <td>False</td>\n",
       "      <td>False</td>\n",
       "      <td>False</td>\n",
       "      <td>False</td>\n",
       "      <td>False</td>\n",
       "      <td>True</td>\n",
       "      <td>False</td>\n",
       "      <td>True</td>\n",
       "    </tr>\n",
       "    <tr>\n",
       "      <th>3</th>\n",
       "      <td>4695</td>\n",
       "      <td>0.0</td>\n",
       "      <td>96.0</td>\n",
       "      <td>360.0</td>\n",
       "      <td>1</td>\n",
       "      <td>True</td>\n",
       "      <td>True</td>\n",
       "      <td>False</td>\n",
       "      <td>False</td>\n",
       "      <td>False</td>\n",
       "      <td>True</td>\n",
       "      <td>True</td>\n",
       "      <td>True</td>\n",
       "      <td>False</td>\n",
       "      <td>True</td>\n",
       "    </tr>\n",
       "    <tr>\n",
       "      <th>4</th>\n",
       "      <td>6700</td>\n",
       "      <td>1750.0</td>\n",
       "      <td>230.0</td>\n",
       "      <td>300.0</td>\n",
       "      <td>1</td>\n",
       "      <td>True</td>\n",
       "      <td>True</td>\n",
       "      <td>False</td>\n",
       "      <td>True</td>\n",
       "      <td>False</td>\n",
       "      <td>False</td>\n",
       "      <td>False</td>\n",
       "      <td>True</td>\n",
       "      <td>True</td>\n",
       "      <td>False</td>\n",
       "    </tr>\n",
       "  </tbody>\n",
       "</table>\n",
       "</div>"
      ],
      "text/plain": [
       "   ApplicantIncome  CoapplicantIncome  LoanAmount  Loan_Amount_Term  \\\n",
       "0             4547                0.0       115.0             360.0   \n",
       "1             5703                0.0       130.0             360.0   \n",
       "2             4333             2451.0       110.0             360.0   \n",
       "3             4695                0.0        96.0             360.0   \n",
       "4             6700             1750.0       230.0             300.0   \n",
       "\n",
       "   Loan_Status  Gender_Male  Married_Yes  Dependents_1  Dependents_2  \\\n",
       "0            1        False        False         False         False   \n",
       "1            1         True         True         False         False   \n",
       "2            0        False         True         False         False   \n",
       "3            1         True         True         False         False   \n",
       "4            1         True         True         False          True   \n",
       "\n",
       "   Dependents_3+  Education_Not Graduate  Self_Employed_Yes  \\\n",
       "0          False                   False              False   \n",
       "1           True                    True               True   \n",
       "2          False                   False              False   \n",
       "3          False                    True               True   \n",
       "4          False                   False              False   \n",
       "\n",
       "   Credit_History_1.0  Property_Area_Semiurban  Property_Area_Urban  \n",
       "0                True                     True                False  \n",
       "1                True                    False                False  \n",
       "2                True                    False                 True  \n",
       "3                True                    False                 True  \n",
       "4                True                     True                False  "
      ]
     },
     "execution_count": 54,
     "metadata": {},
     "output_type": "execute_result"
    }
   ],
   "source": [
    "# Training set\n",
    "df_train = df_concat[df_concat['Loan_Status'].isin([0, 1])].reset_index(drop = True)\n",
    "print('Dimension data: {} rows and {} columns'.format(len(df_train), len(df_train.columns)))\n",
    "df_train.head()"
   ]
  },
  {
   "cell_type": "code",
   "execution_count": 55,
   "id": "adequate-reality",
   "metadata": {
    "scrolled": true
   },
   "outputs": [
    {
     "name": "stdout",
     "output_type": "stream",
     "text": [
      "Data dimension: 106 rows and 15 columns\n"
     ]
    },
    {
     "data": {
      "text/html": [
       "<div>\n",
       "<style scoped>\n",
       "    .dataframe tbody tr th:only-of-type {\n",
       "        vertical-align: middle;\n",
       "    }\n",
       "\n",
       "    .dataframe tbody tr th {\n",
       "        vertical-align: top;\n",
       "    }\n",
       "\n",
       "    .dataframe thead th {\n",
       "        text-align: right;\n",
       "    }\n",
       "</style>\n",
       "<table border=\"1\" class=\"dataframe\">\n",
       "  <thead>\n",
       "    <tr style=\"text-align: right;\">\n",
       "      <th></th>\n",
       "      <th>ApplicantIncome</th>\n",
       "      <th>CoapplicantIncome</th>\n",
       "      <th>LoanAmount</th>\n",
       "      <th>Loan_Amount_Term</th>\n",
       "      <th>Loan_Status</th>\n",
       "      <th>Gender_Male</th>\n",
       "      <th>Married_Yes</th>\n",
       "      <th>Dependents_1</th>\n",
       "      <th>Dependents_2</th>\n",
       "      <th>Dependents_3+</th>\n",
       "      <th>Education_Not Graduate</th>\n",
       "      <th>Self_Employed_Yes</th>\n",
       "      <th>Credit_History_1.0</th>\n",
       "      <th>Property_Area_Semiurban</th>\n",
       "      <th>Property_Area_Urban</th>\n",
       "    </tr>\n",
       "  </thead>\n",
       "  <tbody>\n",
       "    <tr>\n",
       "      <th>0</th>\n",
       "      <td>3748</td>\n",
       "      <td>1668.0</td>\n",
       "      <td>110.0</td>\n",
       "      <td>360.0</td>\n",
       "      <td>999</td>\n",
       "      <td>True</td>\n",
       "      <td>False</td>\n",
       "      <td>False</td>\n",
       "      <td>False</td>\n",
       "      <td>False</td>\n",
       "      <td>True</td>\n",
       "      <td>False</td>\n",
       "      <td>True</td>\n",
       "      <td>True</td>\n",
       "      <td>False</td>\n",
       "    </tr>\n",
       "    <tr>\n",
       "      <th>1</th>\n",
       "      <td>4000</td>\n",
       "      <td>7750.0</td>\n",
       "      <td>290.0</td>\n",
       "      <td>360.0</td>\n",
       "      <td>999</td>\n",
       "      <td>True</td>\n",
       "      <td>True</td>\n",
       "      <td>False</td>\n",
       "      <td>False</td>\n",
       "      <td>True</td>\n",
       "      <td>False</td>\n",
       "      <td>False</td>\n",
       "      <td>True</td>\n",
       "      <td>True</td>\n",
       "      <td>False</td>\n",
       "    </tr>\n",
       "    <tr>\n",
       "      <th>2</th>\n",
       "      <td>2625</td>\n",
       "      <td>6250.0</td>\n",
       "      <td>187.0</td>\n",
       "      <td>360.0</td>\n",
       "      <td>999</td>\n",
       "      <td>True</td>\n",
       "      <td>True</td>\n",
       "      <td>False</td>\n",
       "      <td>False</td>\n",
       "      <td>False</td>\n",
       "      <td>False</td>\n",
       "      <td>False</td>\n",
       "      <td>True</td>\n",
       "      <td>False</td>\n",
       "      <td>False</td>\n",
       "    </tr>\n",
       "    <tr>\n",
       "      <th>3</th>\n",
       "      <td>3902</td>\n",
       "      <td>1666.0</td>\n",
       "      <td>109.0</td>\n",
       "      <td>360.0</td>\n",
       "      <td>999</td>\n",
       "      <td>True</td>\n",
       "      <td>False</td>\n",
       "      <td>False</td>\n",
       "      <td>False</td>\n",
       "      <td>False</td>\n",
       "      <td>True</td>\n",
       "      <td>False</td>\n",
       "      <td>True</td>\n",
       "      <td>False</td>\n",
       "      <td>False</td>\n",
       "    </tr>\n",
       "    <tr>\n",
       "      <th>4</th>\n",
       "      <td>6096</td>\n",
       "      <td>0.0</td>\n",
       "      <td>218.0</td>\n",
       "      <td>360.0</td>\n",
       "      <td>999</td>\n",
       "      <td>True</td>\n",
       "      <td>True</td>\n",
       "      <td>False</td>\n",
       "      <td>False</td>\n",
       "      <td>False</td>\n",
       "      <td>True</td>\n",
       "      <td>False</td>\n",
       "      <td>False</td>\n",
       "      <td>False</td>\n",
       "      <td>False</td>\n",
       "    </tr>\n",
       "  </tbody>\n",
       "</table>\n",
       "</div>"
      ],
      "text/plain": [
       "   ApplicantIncome  CoapplicantIncome  LoanAmount  Loan_Amount_Term  \\\n",
       "0             3748             1668.0       110.0             360.0   \n",
       "1             4000             7750.0       290.0             360.0   \n",
       "2             2625             6250.0       187.0             360.0   \n",
       "3             3902             1666.0       109.0             360.0   \n",
       "4             6096                0.0       218.0             360.0   \n",
       "\n",
       "   Loan_Status  Gender_Male  Married_Yes  Dependents_1  Dependents_2  \\\n",
       "0          999         True        False         False         False   \n",
       "1          999         True         True         False         False   \n",
       "2          999         True         True         False         False   \n",
       "3          999         True        False         False         False   \n",
       "4          999         True         True         False         False   \n",
       "\n",
       "   Dependents_3+  Education_Not Graduate  Self_Employed_Yes  \\\n",
       "0          False                    True              False   \n",
       "1           True                   False              False   \n",
       "2          False                   False              False   \n",
       "3          False                    True              False   \n",
       "4          False                    True              False   \n",
       "\n",
       "   Credit_History_1.0  Property_Area_Semiurban  Property_Area_Urban  \n",
       "0                True                     True                False  \n",
       "1                True                     True                False  \n",
       "2                True                    False                False  \n",
       "3                True                    False                False  \n",
       "4               False                    False                False  "
      ]
     },
     "execution_count": 55,
     "metadata": {},
     "output_type": "execute_result"
    }
   ],
   "source": [
    "# Testing set\n",
    "df_test = df_concat[df_concat['Loan_Status'].isin([999])].reset_index(drop = True)\n",
    "print('Data dimension: {} rows and {} columns'.format(len(df_test), len(df_test.columns)))\n",
    "df_test.head()"
   ]
  },
  {
   "cell_type": "code",
   "execution_count": 56,
   "id": "variable-temperature",
   "metadata": {},
   "outputs": [
    {
     "name": "stdout",
     "output_type": "stream",
     "text": [
      "Data dimension of training set   : (324, 14)\n",
      "Data dimension of validation set : (140, 14)\n",
      "Data dimension of testing set    : (106, 14)\n"
     ]
    }
   ],
   "source": [
    "# Data partitioning >>> training set into training and validation\n",
    "df_train_final = df_train.reset_index(drop = True)\n",
    "X = df_train_final[df_train_final.columns[~df_train_final.columns.isin(['Loan_Status'])]]\n",
    "y = df_train_final['Loan_Status']\n",
    "\n",
    "# Training = 70% and validation = 30%\n",
    "X_train, X_val, y_train, y_val = train_test_split(X , y, test_size = 0.3, random_state = 42)\n",
    "print('Data dimension of training set   :', X_train.shape)\n",
    "print('Data dimension of validation set :', X_val.shape)\n",
    "\n",
    "# Testing set\n",
    "X_test = df_test[df_test.columns[~df_test.columns.isin(['Loan_Status'])]]\n",
    "print('Data dimension of testing set    :', X_test.shape)"
   ]
  },
  {
   "cell_type": "markdown",
   "id": "found-probability",
   "metadata": {},
   "source": [
    "## Machine learning model development"
   ]
  },
  {
   "cell_type": "code",
   "execution_count": 66,
   "id": "da66e997",
   "metadata": {},
   "outputs": [
    {
     "data": {
      "image/svg+xml": [
       "<?xml version=\"1.0\" encoding=\"UTF-8\" standalone=\"no\"?>\n",
       "<!DOCTYPE svg PUBLIC \"-//W3C//DTD SVG 1.1//EN\"\n",
       " \"http://www.w3.org/Graphics/SVG/1.1/DTD/svg11.dtd\">\n",
       "<!-- Generated by graphviz version 13.1.1 (20250719.2154)\n",
       " -->\n",
       "<!-- Pages: 1 -->\n",
       "<svg width=\"309pt\" height=\"576pt\"\n",
       " viewBox=\"0.00 0.00 309.00 576.00\" xmlns=\"http://www.w3.org/2000/svg\" xmlns:xlink=\"http://www.w3.org/1999/xlink\">\n",
       "<g id=\"graph0\" class=\"graph\" transform=\"scale(0.895105 0.895105) rotate(0) translate(4 639.5)\">\n",
       "<polygon fill=\"white\" stroke=\"none\" points=\"-4,4 -4,-639.5 341.51,-639.5 341.51,4 -4,4\"/>\n",
       "<!-- A -->\n",
       "<g id=\"node1\" class=\"node\">\n",
       "<title>A</title>\n",
       "<ellipse fill=\"#deebf7\" stroke=\"black\" cx=\"172.62\" cy=\"-617.5\" rx=\"79.5\" ry=\"18\"/>\n",
       "<text xml:space=\"preserve\" text-anchor=\"middle\" x=\"172.62\" y=\"-612.45\" font-family=\"Times New Roman,serif\" font-size=\"14.00\">Dataset Collection</text>\n",
       "</g>\n",
       "<!-- B -->\n",
       "<g id=\"node2\" class=\"node\">\n",
       "<title>B</title>\n",
       "<ellipse fill=\"#deebf7\" stroke=\"black\" cx=\"172.62\" cy=\"-544.5\" rx=\"63.63\" ry=\"18\"/>\n",
       "<text xml:space=\"preserve\" text-anchor=\"middle\" x=\"172.62\" y=\"-539.45\" font-family=\"Times New Roman,serif\" font-size=\"14.00\">Data Labeling</text>\n",
       "</g>\n",
       "<!-- A&#45;&gt;B -->\n",
       "<g id=\"edge1\" class=\"edge\">\n",
       "<title>A&#45;&gt;B</title>\n",
       "<path fill=\"none\" stroke=\"black\" d=\"M172.62,-599.31C172.62,-591.73 172.62,-582.6 172.62,-574.04\"/>\n",
       "<polygon fill=\"black\" stroke=\"black\" points=\"176.12,-574.04 172.62,-564.04 169.12,-574.04 176.12,-574.04\"/>\n",
       "</g>\n",
       "<!-- C -->\n",
       "<g id=\"node3\" class=\"node\">\n",
       "<title>C</title>\n",
       "<ellipse fill=\"#c6dbef\" stroke=\"black\" cx=\"172.62\" cy=\"-471.5\" rx=\"82.57\" ry=\"18\"/>\n",
       "<text xml:space=\"preserve\" text-anchor=\"middle\" x=\"172.62\" y=\"-466.45\" font-family=\"Times New Roman,serif\" font-size=\"14.00\">Data Preprocessing</text>\n",
       "</g>\n",
       "<!-- B&#45;&gt;C -->\n",
       "<g id=\"edge2\" class=\"edge\">\n",
       "<title>B&#45;&gt;C</title>\n",
       "<path fill=\"none\" stroke=\"black\" d=\"M172.62,-526.31C172.62,-518.73 172.62,-509.6 172.62,-501.04\"/>\n",
       "<polygon fill=\"black\" stroke=\"black\" points=\"176.12,-501.04 172.62,-491.04 169.12,-501.04 176.12,-501.04\"/>\n",
       "</g>\n",
       "<!-- D -->\n",
       "<g id=\"node4\" class=\"node\">\n",
       "<title>D</title>\n",
       "<ellipse fill=\"#c6dbef\" stroke=\"black\" cx=\"172.62\" cy=\"-398.5\" rx=\"69.78\" ry=\"18\"/>\n",
       "<text xml:space=\"preserve\" text-anchor=\"middle\" x=\"172.62\" y=\"-393.45\" font-family=\"Times New Roman,serif\" font-size=\"14.00\">Label Encoding</text>\n",
       "</g>\n",
       "<!-- C&#45;&gt;D -->\n",
       "<g id=\"edge3\" class=\"edge\">\n",
       "<title>C&#45;&gt;D</title>\n",
       "<path fill=\"none\" stroke=\"black\" d=\"M172.62,-453.31C172.62,-445.73 172.62,-436.6 172.62,-428.04\"/>\n",
       "<polygon fill=\"black\" stroke=\"black\" points=\"176.12,-428.04 172.62,-418.04 169.12,-428.04 176.12,-428.04\"/>\n",
       "</g>\n",
       "<!-- E -->\n",
       "<g id=\"node5\" class=\"node\">\n",
       "<title>E</title>\n",
       "<ellipse fill=\"#9ecae1\" stroke=\"black\" cx=\"172.62\" cy=\"-325.5\" rx=\"29.86\" ry=\"18\"/>\n",
       "<text xml:space=\"preserve\" text-anchor=\"middle\" x=\"172.62\" y=\"-320.45\" font-family=\"Times New Roman,serif\" font-size=\"14.00\">EDA</text>\n",
       "</g>\n",
       "<!-- D&#45;&gt;E -->\n",
       "<g id=\"edge4\" class=\"edge\">\n",
       "<title>D&#45;&gt;E</title>\n",
       "<path fill=\"none\" stroke=\"black\" d=\"M172.62,-380.31C172.62,-372.73 172.62,-363.6 172.62,-355.04\"/>\n",
       "<polygon fill=\"black\" stroke=\"black\" points=\"176.12,-355.04 172.62,-345.04 169.12,-355.04 176.12,-355.04\"/>\n",
       "</g>\n",
       "<!-- F -->\n",
       "<g id=\"node6\" class=\"node\">\n",
       "<title>F</title>\n",
       "<ellipse fill=\"#9ecae1\" stroke=\"black\" cx=\"172.62\" cy=\"-252.5\" rx=\"69.26\" ry=\"18\"/>\n",
       "<text xml:space=\"preserve\" text-anchor=\"middle\" x=\"172.62\" y=\"-247.45\" font-family=\"Times New Roman,serif\" font-size=\"14.00\">Model Training</text>\n",
       "</g>\n",
       "<!-- E&#45;&gt;F -->\n",
       "<g id=\"edge5\" class=\"edge\">\n",
       "<title>E&#45;&gt;F</title>\n",
       "<path fill=\"none\" stroke=\"black\" d=\"M172.62,-307.31C172.62,-299.73 172.62,-290.6 172.62,-282.04\"/>\n",
       "<polygon fill=\"black\" stroke=\"black\" points=\"176.12,-282.04 172.62,-272.04 169.12,-282.04 176.12,-282.04\"/>\n",
       "</g>\n",
       "<!-- G -->\n",
       "<g id=\"node7\" class=\"node\">\n",
       "<title>G</title>\n",
       "<ellipse fill=\"#6baed6\" stroke=\"black\" cx=\"172.62\" cy=\"-179.5\" rx=\"53.4\" ry=\"18\"/>\n",
       "<text xml:space=\"preserve\" text-anchor=\"middle\" x=\"172.62\" y=\"-174.45\" font-family=\"Times New Roman,serif\" font-size=\"14.00\">Test Model</text>\n",
       "</g>\n",
       "<!-- F&#45;&gt;G -->\n",
       "<g id=\"edge6\" class=\"edge\">\n",
       "<title>F&#45;&gt;G</title>\n",
       "<path fill=\"none\" stroke=\"black\" d=\"M172.62,-234.31C172.62,-226.73 172.62,-217.6 172.62,-209.04\"/>\n",
       "<polygon fill=\"black\" stroke=\"black\" points=\"176.12,-209.04 172.62,-199.04 169.12,-209.04 176.12,-209.04\"/>\n",
       "</g>\n",
       "<!-- H1 -->\n",
       "<g id=\"node8\" class=\"node\">\n",
       "<title>H1</title>\n",
       "<ellipse fill=\"#6baed6\" stroke=\"black\" cx=\"84.62\" cy=\"-91\" rx=\"84.62\" ry=\"18\"/>\n",
       "<text xml:space=\"preserve\" text-anchor=\"middle\" x=\"84.62\" y=\"-85.95\" font-family=\"Times New Roman,serif\" font-size=\"14.00\">Predicted Approved</text>\n",
       "</g>\n",
       "<!-- G&#45;&gt;H1 -->\n",
       "<g id=\"edge7\" class=\"edge\">\n",
       "<title>G&#45;&gt;H1</title>\n",
       "<path fill=\"none\" stroke=\"black\" d=\"M156.07,-162.23C143.04,-149.43 124.68,-131.38 109.83,-116.78\"/>\n",
       "<polygon fill=\"black\" stroke=\"black\" points=\"112.66,-114.66 103.08,-110.15 107.76,-119.65 112.66,-114.66\"/>\n",
       "<text xml:space=\"preserve\" text-anchor=\"middle\" x=\"146.63\" y=\"-130.2\" font-family=\"Times New Roman,serif\" font-size=\"14.00\">Yes</text>\n",
       "</g>\n",
       "<!-- H2 -->\n",
       "<g id=\"node9\" class=\"node\">\n",
       "<title>H2</title>\n",
       "<ellipse fill=\"#4292c6\" stroke=\"black\" cx=\"262.62\" cy=\"-91\" rx=\"74.89\" ry=\"18\"/>\n",
       "<text xml:space=\"preserve\" text-anchor=\"middle\" x=\"262.62\" y=\"-85.95\" font-family=\"Times New Roman,serif\" font-size=\"14.00\">Predicted Denied</text>\n",
       "</g>\n",
       "<!-- G&#45;&gt;H2 -->\n",
       "<g id=\"edge8\" class=\"edge\">\n",
       "<title>G&#45;&gt;H2</title>\n",
       "<path fill=\"none\" stroke=\"black\" d=\"M189.55,-162.23C202.95,-149.35 221.89,-131.15 237.13,-116.5\"/>\n",
       "<polygon fill=\"black\" stroke=\"black\" points=\"239.28,-119.29 244.06,-109.84 234.43,-114.24 239.28,-119.29\"/>\n",
       "<text xml:space=\"preserve\" text-anchor=\"middle\" x=\"233.93\" y=\"-130.2\" font-family=\"Times New Roman,serif\" font-size=\"14.00\">No</text>\n",
       "</g>\n",
       "<!-- I -->\n",
       "<g id=\"node10\" class=\"node\">\n",
       "<title>I</title>\n",
       "<ellipse fill=\"#4292c6\" stroke=\"black\" cx=\"172.62\" cy=\"-18\" rx=\"77.97\" ry=\"18\"/>\n",
       "<text xml:space=\"preserve\" text-anchor=\"middle\" x=\"172.62\" y=\"-12.95\" font-family=\"Times New Roman,serif\" font-size=\"14.00\">Model Evaluation</text>\n",
       "</g>\n",
       "<!-- H1&#45;&gt;I -->\n",
       "<g id=\"edge9\" class=\"edge\">\n",
       "<title>H1&#45;&gt;I</title>\n",
       "<path fill=\"none\" stroke=\"black\" d=\"M105.47,-73.17C116.76,-64.07 130.89,-52.67 143.27,-42.68\"/>\n",
       "<polygon fill=\"black\" stroke=\"black\" points=\"145.15,-45.66 150.74,-36.66 140.76,-40.21 145.15,-45.66\"/>\n",
       "</g>\n",
       "<!-- H2&#45;&gt;I -->\n",
       "<g id=\"edge10\" class=\"edge\">\n",
       "<title>H2&#45;&gt;I</title>\n",
       "<path fill=\"none\" stroke=\"black\" d=\"M241.74,-73.53C230.13,-64.37 215.47,-52.8 202.64,-42.68\"/>\n",
       "<polygon fill=\"black\" stroke=\"black\" points=\"204.9,-40.01 194.88,-36.56 200.56,-45.5 204.9,-40.01\"/>\n",
       "</g>\n",
       "</g>\n",
       "</svg>\n"
      ],
      "text/plain": [
       "<graphviz.graphs.Digraph at 0x29d8f0f2310>"
      ]
     },
     "metadata": {},
     "output_type": "display_data"
    }
   ],
   "source": [
    "from graphviz import Digraph\n",
    "from IPython.display import display\n",
    "\n",
    "# Create the Digraph\n",
    "dot = Digraph(format='png')\n",
    "dot.attr(rankdir='TB', size='10,8', style='filled', fontname='Helvetica')\n",
    "\n",
    "# Define a set of blue shades (from light to dark)\n",
    "blues = [\n",
    "    '#deebf7',  # lightest blue\n",
    "     '#deebf7',\n",
    "    '#c6dbef',\n",
    "    '#c6dbef',\n",
    "    '#9ecae1',\n",
    "      '#9ecae1',\n",
    "    '#6baed6',\n",
    "     '#6baed6',\n",
    "    '#4292c6',\n",
    "        '#4292c6'\n",
    "]\n",
    "\n",
    "# Nodes using the blue palette\n",
    "dot.node('A', 'Dataset Collection', style='filled', fillcolor=blues[0])\n",
    "dot.node('B', 'Data Labeling', style='filled', fillcolor=blues[1])\n",
    "dot.node('C', 'Data Preprocessing', style='filled', fillcolor=blues[2])\n",
    "dot.node('D', 'Label Encoding', style='filled', fillcolor=blues[3])\n",
    "dot.node('E', 'EDA', style='filled', fillcolor=blues[4])\n",
    "dot.node('F', 'Model Training', style='filled', fillcolor=blues[5])\n",
    "dot.node('G', 'Test Model', style='filled', fillcolor=blues[6])\n",
    "dot.node('H1', 'Predicted Approved', style='filled', fillcolor=blues[7])\n",
    "dot.node('H2', 'Predicted Denied', style='filled', fillcolor=blues[8])\n",
    "dot.node('I', 'Model Evaluation', style='filled', fillcolor=blues[9])\n",
    "\n",
    "# Edges\n",
    "dot.edges(['AB', 'BC', 'CD', 'DE', 'EF', 'FG'])\n",
    "dot.edge('G', 'H1', label='Yes')\n",
    "dot.edge('G', 'H2', label='No')\n",
    "dot.edge('H1', 'I')\n",
    "dot.edge('H2', 'I')\n",
    "\n",
    "# Display the graph in the notebook\n",
    "display(dot)\n"
   ]
  },
  {
   "cell_type": "code",
   "execution_count": 67,
   "id": "1310d485",
   "metadata": {},
   "outputs": [
    {
     "data": {
      "image/svg+xml": [
       "<?xml version=\"1.0\" encoding=\"UTF-8\" standalone=\"no\"?>\n",
       "<!DOCTYPE svg PUBLIC \"-//W3C//DTD SVG 1.1//EN\"\n",
       " \"http://www.w3.org/Graphics/SVG/1.1/DTD/svg11.dtd\">\n",
       "<!-- Generated by graphviz version 13.1.1 (20250719.2154)\n",
       " -->\n",
       "<!-- Pages: 1 -->\n",
       "<svg width=\"576pt\" height=\"303pt\"\n",
       " viewBox=\"0.00 0.00 576.00 303.00\" xmlns=\"http://www.w3.org/2000/svg\" xmlns:xlink=\"http://www.w3.org/1999/xlink\">\n",
       "<g id=\"graph0\" class=\"graph\" transform=\"scale(0.763521 0.763521) rotate(0) translate(4 392.59)\">\n",
       "<polygon fill=\"white\" stroke=\"none\" points=\"-4,4 -4,-392.59 750.4,-392.59 750.4,4 -4,4\"/>\n",
       "<!-- S -->\n",
       "<g id=\"node1\" class=\"node\">\n",
       "<title>S</title>\n",
       "<ellipse fill=\"#2c7da0\" stroke=\"black\" cx=\"410.2\" cy=\"-331.09\" rx=\"57.49\" ry=\"57.49\"/>\n",
       "<text xml:space=\"preserve\" text-anchor=\"middle\" x=\"410.2\" y=\"-326.04\" font-family=\"Times New Roman,serif\" font-size=\"14.00\" fill=\"white\">New sample</text>\n",
       "</g>\n",
       "<!-- T1 -->\n",
       "<g id=\"node2\" class=\"node\">\n",
       "<title>T1</title>\n",
       "<ellipse fill=\"#61a5c2\" stroke=\"black\" cx=\"153.2\" cy=\"-226.8\" rx=\"10.8\" ry=\"10.8\"/>\n",
       "</g>\n",
       "<!-- S&#45;&gt;T1 -->\n",
       "<g id=\"edge1\" class=\"edge\">\n",
       "<title>S&#45;&gt;T1</title>\n",
       "<path fill=\"none\" stroke=\"black\" d=\"M356.95,-308.9C300.19,-286.31 213.18,-251.67 173.82,-236.01\"/>\n",
       "<polygon fill=\"black\" stroke=\"black\" points=\"175.2,-232.79 164.62,-232.35 172.62,-239.3 175.2,-232.79\"/>\n",
       "</g>\n",
       "<!-- T2 -->\n",
       "<g id=\"node3\" class=\"node\">\n",
       "<title>T2</title>\n",
       "<ellipse fill=\"#61a5c2\" stroke=\"black\" cx=\"410.2\" cy=\"-226.8\" rx=\"10.8\" ry=\"10.8\"/>\n",
       "</g>\n",
       "<!-- S&#45;&gt;T2 -->\n",
       "<g id=\"edge2\" class=\"edge\">\n",
       "<title>S&#45;&gt;T2</title>\n",
       "<path fill=\"none\" stroke=\"black\" d=\"M410.2,-273.26C410.2,-264.76 410.2,-256.46 410.2,-249.34\"/>\n",
       "<polygon fill=\"black\" stroke=\"black\" points=\"413.7,-249.49 410.2,-239.49 406.7,-249.49 413.7,-249.49\"/>\n",
       "</g>\n",
       "<!-- T3 -->\n",
       "<g id=\"node4\" class=\"node\">\n",
       "<title>T3</title>\n",
       "<ellipse fill=\"#61a5c2\" stroke=\"black\" cx=\"593.2\" cy=\"-226.8\" rx=\"10.8\" ry=\"10.8\"/>\n",
       "</g>\n",
       "<!-- S&#45;&gt;T3 -->\n",
       "<g id=\"edge3\" class=\"edge\">\n",
       "<title>S&#45;&gt;T3</title>\n",
       "<path fill=\"none\" stroke=\"black\" d=\"M460.21,-302.14C497.8,-281.13 547.25,-253.48 574.01,-238.53\"/>\n",
       "<polygon fill=\"black\" stroke=\"black\" points=\"575.64,-241.62 582.66,-233.69 572.23,-235.51 575.64,-241.62\"/>\n",
       "</g>\n",
       "<!-- T1_1 -->\n",
       "<g id=\"node5\" class=\"node\">\n",
       "<title>T1_1</title>\n",
       "<ellipse fill=\"#7f8c8d\" stroke=\"black\" cx=\"103.2\" cy=\"-162\" rx=\"9\" ry=\"9\"/>\n",
       "</g>\n",
       "<!-- T1&#45;&gt;T1_1 -->\n",
       "<g id=\"edge4\" class=\"edge\">\n",
       "<title>T1&#45;&gt;T1_1</title>\n",
       "<path fill=\"none\" stroke=\"black\" d=\"M146.66,-217.59C138.73,-207.62 125.18,-190.61 115.32,-178.22\"/>\n",
       "<polygon fill=\"black\" stroke=\"black\" points=\"118.28,-176.32 109.31,-170.68 112.8,-180.68 118.28,-176.32\"/>\n",
       "</g>\n",
       "<!-- T1_2 -->\n",
       "<g id=\"node8\" class=\"node\">\n",
       "<title>T1_2</title>\n",
       "<ellipse fill=\"#7f8c8d\" stroke=\"black\" cx=\"153.2\" cy=\"-162\" rx=\"9\" ry=\"9\"/>\n",
       "</g>\n",
       "<!-- T1&#45;&gt;T1_2 -->\n",
       "<g id=\"edge7\" class=\"edge\">\n",
       "<title>T1&#45;&gt;T1_2</title>\n",
       "<path fill=\"none\" stroke=\"black\" d=\"M153.2,-215.71C153.2,-206.84 153.2,-193.67 153.2,-182.71\"/>\n",
       "<polygon fill=\"black\" stroke=\"black\" points=\"156.7,-182.77 153.2,-172.77 149.7,-182.77 156.7,-182.77\"/>\n",
       "</g>\n",
       "<!-- T1_3 -->\n",
       "<g id=\"node11\" class=\"node\">\n",
       "<title>T1_3</title>\n",
       "<ellipse fill=\"#7f8c8d\" stroke=\"black\" cx=\"39.2\" cy=\"-162\" rx=\"9\" ry=\"9\"/>\n",
       "</g>\n",
       "<!-- T1&#45;&gt;T1_3 -->\n",
       "<g id=\"edge10\" class=\"edge\">\n",
       "<title>T1&#45;&gt;T1_3</title>\n",
       "<path fill=\"none\" stroke=\"black\" d=\"M143.87,-220.66C124.87,-210.19 81.39,-186.24 56.87,-172.73\"/>\n",
       "<polygon fill=\"black\" stroke=\"black\" points=\"58.59,-169.69 48.14,-167.93 55.21,-175.82 58.59,-169.69\"/>\n",
       "</g>\n",
       "<!-- R1 -->\n",
       "<g id=\"node32\" class=\"node\">\n",
       "<title>R1</title>\n",
       "<text xml:space=\"preserve\" text-anchor=\"middle\" x=\"263.2\" y=\"-156.95\" font-family=\"Times New Roman,serif\" font-size=\"14.00\">Result 1</text>\n",
       "</g>\n",
       "<!-- T1&#45;&gt;R1 -->\n",
       "<g id=\"edge31\" class=\"edge\">\n",
       "<title>T1&#45;&gt;R1</title>\n",
       "<path fill=\"none\" stroke=\"black\" stroke-dasharray=\"5,2\" d=\"M162.2,-220.66C175.55,-213.04 201.41,-198.28 223.62,-185.6\"/>\n",
       "<polygon fill=\"black\" stroke=\"black\" points=\"225.25,-188.7 232.2,-180.7 221.78,-182.62 225.25,-188.7\"/>\n",
       "</g>\n",
       "<!-- T2_1 -->\n",
       "<g id=\"node14\" class=\"node\">\n",
       "<title>T2_1</title>\n",
       "<ellipse fill=\"#7f8c8d\" stroke=\"black\" cx=\"205.2\" cy=\"-162\" rx=\"9\" ry=\"9\"/>\n",
       "</g>\n",
       "<!-- T2&#45;&gt;T2_1 -->\n",
       "<g id=\"edge13\" class=\"edge\">\n",
       "<title>T2&#45;&gt;T2_1</title>\n",
       "<path fill=\"none\" stroke=\"black\" d=\"M399.06,-224.94C369.12,-222.25 285.08,-212.13 224.2,-180 222.48,-179.09 220.79,-177.99 219.17,-176.8\"/>\n",
       "<polygon fill=\"black\" stroke=\"black\" points=\"221.88,-174.53 212.08,-170.52 217.24,-179.77 221.88,-174.53\"/>\n",
       "</g>\n",
       "<!-- T2_2 -->\n",
       "<g id=\"node17\" class=\"node\">\n",
       "<title>T2_2</title>\n",
       "<ellipse fill=\"#7f8c8d\" stroke=\"black\" cx=\"479.2\" cy=\"-162\" rx=\"9\" ry=\"9\"/>\n",
       "</g>\n",
       "<!-- T2&#45;&gt;T2_2 -->\n",
       "<g id=\"edge16\" class=\"edge\">\n",
       "<title>T2&#45;&gt;T2_2</title>\n",
       "<path fill=\"none\" stroke=\"black\" d=\"M417.86,-219.03C427.88,-210.14 445.97,-194.03 461.2,-180 462.3,-178.98 463.44,-177.93 464.58,-176.87\"/>\n",
       "<polygon fill=\"black\" stroke=\"black\" points=\"466.93,-179.46 471.8,-170.06 462.13,-174.37 466.93,-179.46\"/>\n",
       "</g>\n",
       "<!-- T2_3 -->\n",
       "<g id=\"node20\" class=\"node\">\n",
       "<title>T2_3</title>\n",
       "<ellipse fill=\"#7f8c8d\" stroke=\"black\" cx=\"515.2\" cy=\"-162\" rx=\"9\" ry=\"9\"/>\n",
       "</g>\n",
       "<!-- T2&#45;&gt;T2_3 -->\n",
       "<g id=\"edge19\" class=\"edge\">\n",
       "<title>T2&#45;&gt;T2_3</title>\n",
       "<path fill=\"none\" stroke=\"black\" d=\"M420.09,-221.66C436.78,-214.45 471.23,-198.56 497.2,-180 498.6,-179 500,-177.9 501.37,-176.75\"/>\n",
       "<polygon fill=\"black\" stroke=\"black\" points=\"503.53,-179.52 508.45,-170.13 498.75,-174.4 503.53,-179.52\"/>\n",
       "</g>\n",
       "<!-- R2 -->\n",
       "<g id=\"node33\" class=\"node\">\n",
       "<title>R2</title>\n",
       "<text xml:space=\"preserve\" text-anchor=\"middle\" x=\"342.2\" y=\"-156.95\" font-family=\"Times New Roman,serif\" font-size=\"14.00\">Result 2</text>\n",
       "</g>\n",
       "<!-- T2&#45;&gt;R2 -->\n",
       "<g id=\"edge32\" class=\"edge\">\n",
       "<title>T2&#45;&gt;R2</title>\n",
       "<path fill=\"none\" stroke=\"black\" stroke-dasharray=\"5,2\" d=\"M402.66,-218.84C394.46,-211.26 380.88,-198.72 368.66,-187.44\"/>\n",
       "<polygon fill=\"black\" stroke=\"black\" points=\"371.34,-185.14 361.62,-180.93 366.59,-190.29 371.34,-185.14\"/>\n",
       "</g>\n",
       "<!-- T3_1 -->\n",
       "<g id=\"node23\" class=\"node\">\n",
       "<title>T3_1</title>\n",
       "<ellipse fill=\"#7f8c8d\" stroke=\"black\" cx=\"593.2\" cy=\"-162\" rx=\"9\" ry=\"9\"/>\n",
       "</g>\n",
       "<!-- T3&#45;&gt;T3_1 -->\n",
       "<g id=\"edge22\" class=\"edge\">\n",
       "<title>T3&#45;&gt;T3_1</title>\n",
       "<path fill=\"none\" stroke=\"black\" d=\"M593.2,-215.71C593.2,-206.84 593.2,-193.67 593.2,-182.71\"/>\n",
       "<polygon fill=\"black\" stroke=\"black\" points=\"596.7,-182.77 593.2,-172.77 589.7,-182.77 596.7,-182.77\"/>\n",
       "</g>\n",
       "<!-- T3_2 -->\n",
       "<g id=\"node26\" class=\"node\">\n",
       "<title>T3_2</title>\n",
       "<ellipse fill=\"#7f8c8d\" stroke=\"black\" cx=\"643.2\" cy=\"-162\" rx=\"9\" ry=\"9\"/>\n",
       "</g>\n",
       "<!-- T3&#45;&gt;T3_2 -->\n",
       "<g id=\"edge25\" class=\"edge\">\n",
       "<title>T3&#45;&gt;T3_2</title>\n",
       "<path fill=\"none\" stroke=\"black\" d=\"M599.74,-217.59C607.67,-207.62 621.22,-190.61 631.08,-178.22\"/>\n",
       "<polygon fill=\"black\" stroke=\"black\" points=\"633.6,-180.68 637.09,-170.68 628.12,-176.32 633.6,-180.68\"/>\n",
       "</g>\n",
       "<!-- T3_3 -->\n",
       "<g id=\"node29\" class=\"node\">\n",
       "<title>T3_3</title>\n",
       "<ellipse fill=\"#7f8c8d\" stroke=\"black\" cx=\"707.2\" cy=\"-162\" rx=\"9\" ry=\"9\"/>\n",
       "</g>\n",
       "<!-- T3&#45;&gt;T3_3 -->\n",
       "<g id=\"edge28\" class=\"edge\">\n",
       "<title>T3&#45;&gt;T3_3</title>\n",
       "<path fill=\"none\" stroke=\"black\" d=\"M602.53,-220.66C621.53,-210.19 665.01,-186.24 689.53,-172.73\"/>\n",
       "<polygon fill=\"black\" stroke=\"black\" points=\"691.19,-175.82 698.26,-167.93 687.81,-169.69 691.19,-175.82\"/>\n",
       "</g>\n",
       "<!-- R3 -->\n",
       "<g id=\"node34\" class=\"node\">\n",
       "<title>R3</title>\n",
       "<text xml:space=\"preserve\" text-anchor=\"middle\" x=\"421.2\" y=\"-156.95\" font-family=\"Times New Roman,serif\" font-size=\"14.00\">Result 3</text>\n",
       "</g>\n",
       "<!-- T3&#45;&gt;R3 -->\n",
       "<g id=\"edge33\" class=\"edge\">\n",
       "<title>T3&#45;&gt;R3</title>\n",
       "<path fill=\"none\" stroke=\"black\" stroke-dasharray=\"5,2\" d=\"M582.84,-222.47C561.91,-215.69 512.9,-199.54 462.19,-180.24\"/>\n",
       "<polygon fill=\"black\" stroke=\"black\" points=\"463.69,-177.07 453.1,-176.75 461.18,-183.61 463.69,-177.07\"/>\n",
       "</g>\n",
       "<!-- T1_1_a -->\n",
       "<g id=\"node6\" class=\"node\">\n",
       "<title>T1_1_a</title>\n",
       "<ellipse fill=\"#7f8c8d\" stroke=\"black\" cx=\"103.2\" cy=\"-90\" rx=\"7.2\" ry=\"7.2\"/>\n",
       "</g>\n",
       "<!-- T1_1&#45;&gt;T1_1_a -->\n",
       "<g id=\"edge5\" class=\"edge\">\n",
       "<title>T1_1&#45;&gt;T1_1_a</title>\n",
       "<path fill=\"none\" stroke=\"black\" d=\"M103.2,-152.7C103.2,-141.94 103.2,-122.89 103.2,-108.8\"/>\n",
       "<polygon fill=\"black\" stroke=\"black\" points=\"106.7,-109.14 103.2,-99.14 99.7,-109.14 106.7,-109.14\"/>\n",
       "</g>\n",
       "<!-- T1_1_b -->\n",
       "<g id=\"node7\" class=\"node\">\n",
       "<title>T1_1_b</title>\n",
       "<ellipse fill=\"#7f8c8d\" stroke=\"black\" cx=\"71.2\" cy=\"-90\" rx=\"7.2\" ry=\"7.2\"/>\n",
       "</g>\n",
       "<!-- T1_1&#45;&gt;T1_1_b -->\n",
       "<g id=\"edge6\" class=\"edge\">\n",
       "<title>T1_1&#45;&gt;T1_1_b</title>\n",
       "<path fill=\"none\" stroke=\"black\" d=\"M99.65,-153.24C94.62,-142.23 85.28,-121.8 78.68,-107.35\"/>\n",
       "<polygon fill=\"black\" stroke=\"black\" points=\"81.9,-105.98 74.56,-98.34 75.53,-108.89 81.9,-105.98\"/>\n",
       "</g>\n",
       "<!-- T1_2_a -->\n",
       "<g id=\"node9\" class=\"node\">\n",
       "<title>T1_2_a</title>\n",
       "<ellipse fill=\"#d0e8f2\" stroke=\"black\" cx=\"167.2\" cy=\"-90\" rx=\"7.2\" ry=\"7.2\"/>\n",
       "</g>\n",
       "<!-- T1_2&#45;&gt;T1_2_a -->\n",
       "<g id=\"edge8\" class=\"edge\">\n",
       "<title>T1_2&#45;&gt;T1_2_a</title>\n",
       "<path fill=\"none\" stroke=\"black\" d=\"M154.86,-152.7C157.03,-141.83 160.9,-122.5 163.73,-108.37\"/>\n",
       "<polygon fill=\"black\" stroke=\"black\" points=\"167.13,-109.22 165.66,-98.72 160.26,-107.84 167.13,-109.22\"/>\n",
       "</g>\n",
       "<!-- T1_2_b -->\n",
       "<g id=\"node10\" class=\"node\">\n",
       "<title>T1_2_b</title>\n",
       "<ellipse fill=\"#d0e8f2\" stroke=\"black\" cx=\"135.2\" cy=\"-90\" rx=\"7.2\" ry=\"7.2\"/>\n",
       "</g>\n",
       "<!-- T1_2&#45;&gt;T1_2_b -->\n",
       "<g id=\"edge9\" class=\"edge\">\n",
       "<title>T1_2&#45;&gt;T1_2_b</title>\n",
       "<path fill=\"none\" stroke=\"black\" d=\"M151.14,-152.97C148.34,-142.08 143.26,-122.36 139.59,-108.08\"/>\n",
       "<polygon fill=\"black\" stroke=\"black\" points=\"143.08,-107.58 137.2,-98.76 136.3,-109.32 143.08,-107.58\"/>\n",
       "</g>\n",
       "<!-- T1_3_a -->\n",
       "<g id=\"node12\" class=\"node\">\n",
       "<title>T1_3_a</title>\n",
       "<ellipse fill=\"#7f8c8d\" stroke=\"black\" cx=\"39.2\" cy=\"-90\" rx=\"7.2\" ry=\"7.2\"/>\n",
       "</g>\n",
       "<!-- T1_3&#45;&gt;T1_3_a -->\n",
       "<g id=\"edge11\" class=\"edge\">\n",
       "<title>T1_3&#45;&gt;T1_3_a</title>\n",
       "<path fill=\"none\" stroke=\"black\" d=\"M39.2,-152.7C39.2,-141.94 39.2,-122.89 39.2,-108.8\"/>\n",
       "<polygon fill=\"black\" stroke=\"black\" points=\"42.7,-109.14 39.2,-99.14 35.7,-109.14 42.7,-109.14\"/>\n",
       "</g>\n",
       "<!-- T1_3_b -->\n",
       "<g id=\"node13\" class=\"node\">\n",
       "<title>T1_3_b</title>\n",
       "<ellipse fill=\"#7f8c8d\" stroke=\"black\" cx=\"7.2\" cy=\"-90\" rx=\"7.2\" ry=\"7.2\"/>\n",
       "</g>\n",
       "<!-- T1_3&#45;&gt;T1_3_b -->\n",
       "<g id=\"edge12\" class=\"edge\">\n",
       "<title>T1_3&#45;&gt;T1_3_b</title>\n",
       "<path fill=\"none\" stroke=\"black\" d=\"M35.65,-153.24C30.62,-142.23 21.28,-121.8 14.68,-107.35\"/>\n",
       "<polygon fill=\"black\" stroke=\"black\" points=\"17.9,-105.98 10.56,-98.34 11.53,-108.89 17.9,-105.98\"/>\n",
       "</g>\n",
       "<!-- T2_1_a -->\n",
       "<g id=\"node15\" class=\"node\">\n",
       "<title>T2_1_a</title>\n",
       "<ellipse fill=\"#7f8c8d\" stroke=\"black\" cx=\"199.2\" cy=\"-90\" rx=\"7.2\" ry=\"7.2\"/>\n",
       "</g>\n",
       "<!-- T2_1&#45;&gt;T2_1_a -->\n",
       "<g id=\"edge14\" class=\"edge\">\n",
       "<title>T2_1&#45;&gt;T2_1_a</title>\n",
       "<path fill=\"none\" stroke=\"black\" d=\"M204.49,-152.7C203.57,-141.94 201.93,-122.89 200.73,-108.8\"/>\n",
       "<polygon fill=\"black\" stroke=\"black\" points=\"204.24,-108.8 199.9,-99.14 197.26,-109.4 204.24,-108.8\"/>\n",
       "</g>\n",
       "<!-- T2_1_b -->\n",
       "<g id=\"node16\" class=\"node\">\n",
       "<title>T2_1_b</title>\n",
       "<ellipse fill=\"#7f8c8d\" stroke=\"black\" cx=\"231.2\" cy=\"-90\" rx=\"7.2\" ry=\"7.2\"/>\n",
       "</g>\n",
       "<!-- T2_1&#45;&gt;T2_1_b -->\n",
       "<g id=\"edge15\" class=\"edge\">\n",
       "<title>T2_1&#45;&gt;T2_1_b</title>\n",
       "<path fill=\"none\" stroke=\"black\" d=\"M208.08,-153.24C212.17,-142.23 219.76,-121.8 225.13,-107.35\"/>\n",
       "<polygon fill=\"black\" stroke=\"black\" points=\"228.26,-108.98 228.46,-98.39 221.69,-106.54 228.26,-108.98\"/>\n",
       "</g>\n",
       "<!-- T2_2_a -->\n",
       "<g id=\"node18\" class=\"node\">\n",
       "<title>T2_2_a</title>\n",
       "<ellipse fill=\"#d0e8f2\" stroke=\"black\" cx=\"451.2\" cy=\"-90\" rx=\"7.2\" ry=\"7.2\"/>\n",
       "</g>\n",
       "<!-- T2_2&#45;&gt;T2_2_a -->\n",
       "<g id=\"edge17\" class=\"edge\">\n",
       "<title>T2_2&#45;&gt;T2_2_a</title>\n",
       "<path fill=\"none\" stroke=\"black\" d=\"M476.1,-153.24C471.69,-142.23 463.52,-121.8 457.74,-107.35\"/>\n",
       "<polygon fill=\"black\" stroke=\"black\" points=\"461.11,-106.36 454.15,-98.37 454.61,-108.96 461.11,-106.36\"/>\n",
       "</g>\n",
       "<!-- T2_2_b -->\n",
       "<g id=\"node19\" class=\"node\">\n",
       "<title>T2_2_b</title>\n",
       "<ellipse fill=\"#d0e8f2\" stroke=\"black\" cx=\"483.2\" cy=\"-90\" rx=\"7.2\" ry=\"7.2\"/>\n",
       "</g>\n",
       "<!-- T2_2&#45;&gt;T2_2_b -->\n",
       "<g id=\"edge18\" class=\"edge\">\n",
       "<title>T2_2&#45;&gt;T2_2_b</title>\n",
       "<path fill=\"none\" stroke=\"black\" d=\"M479.67,-152.7C480.29,-141.94 481.38,-122.89 482.18,-108.8\"/>\n",
       "<polygon fill=\"black\" stroke=\"black\" points=\"485.66,-109.33 482.73,-99.14 478.67,-108.93 485.66,-109.33\"/>\n",
       "</g>\n",
       "<!-- T2_3_a -->\n",
       "<g id=\"node21\" class=\"node\">\n",
       "<title>T2_3_a</title>\n",
       "<ellipse fill=\"#7f8c8d\" stroke=\"black\" cx=\"515.2\" cy=\"-90\" rx=\"7.2\" ry=\"7.2\"/>\n",
       "</g>\n",
       "<!-- T2_3&#45;&gt;T2_3_a -->\n",
       "<g id=\"edge20\" class=\"edge\">\n",
       "<title>T2_3&#45;&gt;T2_3_a</title>\n",
       "<path fill=\"none\" stroke=\"black\" d=\"M515.2,-152.7C515.2,-141.94 515.2,-122.89 515.2,-108.8\"/>\n",
       "<polygon fill=\"black\" stroke=\"black\" points=\"518.7,-109.14 515.2,-99.14 511.7,-109.14 518.7,-109.14\"/>\n",
       "</g>\n",
       "<!-- T2_3_b -->\n",
       "<g id=\"node22\" class=\"node\">\n",
       "<title>T2_3_b</title>\n",
       "<ellipse fill=\"#7f8c8d\" stroke=\"black\" cx=\"547.2\" cy=\"-90\" rx=\"7.2\" ry=\"7.2\"/>\n",
       "</g>\n",
       "<!-- T2_3&#45;&gt;T2_3_b -->\n",
       "<g id=\"edge21\" class=\"edge\">\n",
       "<title>T2_3&#45;&gt;T2_3_b</title>\n",
       "<path fill=\"none\" stroke=\"black\" d=\"M518.75,-153.24C523.78,-142.23 533.12,-121.8 539.72,-107.35\"/>\n",
       "<polygon fill=\"black\" stroke=\"black\" points=\"542.87,-108.89 543.84,-98.34 536.5,-105.98 542.87,-108.89\"/>\n",
       "</g>\n",
       "<!-- T3_1_a -->\n",
       "<g id=\"node24\" class=\"node\">\n",
       "<title>T3_1_a</title>\n",
       "<ellipse fill=\"#7f8c8d\" stroke=\"black\" cx=\"611.2\" cy=\"-90\" rx=\"7.2\" ry=\"7.2\"/>\n",
       "</g>\n",
       "<!-- T3_1&#45;&gt;T3_1_a -->\n",
       "<g id=\"edge23\" class=\"edge\">\n",
       "<title>T3_1&#45;&gt;T3_1_a</title>\n",
       "<path fill=\"none\" stroke=\"black\" d=\"M595.26,-152.97C598.06,-142.08 603.14,-122.36 606.81,-108.08\"/>\n",
       "<polygon fill=\"black\" stroke=\"black\" points=\"610.1,-109.32 609.2,-98.76 603.32,-107.58 610.1,-109.32\"/>\n",
       "</g>\n",
       "<!-- T3_1_b -->\n",
       "<g id=\"node25\" class=\"node\">\n",
       "<title>T3_1_b</title>\n",
       "<ellipse fill=\"#7f8c8d\" stroke=\"black\" cx=\"579.2\" cy=\"-90\" rx=\"7.2\" ry=\"7.2\"/>\n",
       "</g>\n",
       "<!-- T3_1&#45;&gt;T3_1_b -->\n",
       "<g id=\"edge24\" class=\"edge\">\n",
       "<title>T3_1&#45;&gt;T3_1_b</title>\n",
       "<path fill=\"none\" stroke=\"black\" d=\"M591.54,-152.7C589.37,-141.83 585.5,-122.5 582.67,-108.37\"/>\n",
       "<polygon fill=\"black\" stroke=\"black\" points=\"586.14,-107.84 580.74,-98.72 579.27,-109.22 586.14,-107.84\"/>\n",
       "</g>\n",
       "<!-- T3_2_a -->\n",
       "<g id=\"node27\" class=\"node\">\n",
       "<title>T3_2_a</title>\n",
       "<ellipse fill=\"#d0e8f2\" stroke=\"black\" cx=\"675.2\" cy=\"-90\" rx=\"7.2\" ry=\"7.2\"/>\n",
       "</g>\n",
       "<!-- T3_2&#45;&gt;T3_2_a -->\n",
       "<g id=\"edge26\" class=\"edge\">\n",
       "<title>T3_2&#45;&gt;T3_2_a</title>\n",
       "<path fill=\"none\" stroke=\"black\" d=\"M646.75,-153.24C651.78,-142.23 661.12,-121.8 667.72,-107.35\"/>\n",
       "<polygon fill=\"black\" stroke=\"black\" points=\"670.87,-108.89 671.84,-98.34 664.5,-105.98 670.87,-108.89\"/>\n",
       "</g>\n",
       "<!-- T3_2_b -->\n",
       "<g id=\"node28\" class=\"node\">\n",
       "<title>T3_2_b</title>\n",
       "<ellipse fill=\"#d0e8f2\" stroke=\"black\" cx=\"643.2\" cy=\"-90\" rx=\"7.2\" ry=\"7.2\"/>\n",
       "</g>\n",
       "<!-- T3_2&#45;&gt;T3_2_b -->\n",
       "<g id=\"edge27\" class=\"edge\">\n",
       "<title>T3_2&#45;&gt;T3_2_b</title>\n",
       "<path fill=\"none\" stroke=\"black\" d=\"M643.2,-152.7C643.2,-141.94 643.2,-122.89 643.2,-108.8\"/>\n",
       "<polygon fill=\"black\" stroke=\"black\" points=\"646.7,-109.14 643.2,-99.14 639.7,-109.14 646.7,-109.14\"/>\n",
       "</g>\n",
       "<!-- T3_3_a -->\n",
       "<g id=\"node30\" class=\"node\">\n",
       "<title>T3_3_a</title>\n",
       "<ellipse fill=\"#7f8c8d\" stroke=\"black\" cx=\"739.2\" cy=\"-90\" rx=\"7.2\" ry=\"7.2\"/>\n",
       "</g>\n",
       "<!-- T3_3&#45;&gt;T3_3_a -->\n",
       "<g id=\"edge29\" class=\"edge\">\n",
       "<title>T3_3&#45;&gt;T3_3_a</title>\n",
       "<path fill=\"none\" stroke=\"black\" d=\"M710.75,-153.24C715.78,-142.23 725.12,-121.8 731.72,-107.35\"/>\n",
       "<polygon fill=\"black\" stroke=\"black\" points=\"734.87,-108.89 735.84,-98.34 728.5,-105.98 734.87,-108.89\"/>\n",
       "</g>\n",
       "<!-- T3_3_b -->\n",
       "<g id=\"node31\" class=\"node\">\n",
       "<title>T3_3_b</title>\n",
       "<ellipse fill=\"#7f8c8d\" stroke=\"black\" cx=\"707.2\" cy=\"-90\" rx=\"7.2\" ry=\"7.2\"/>\n",
       "</g>\n",
       "<!-- T3_3&#45;&gt;T3_3_b -->\n",
       "<g id=\"edge30\" class=\"edge\">\n",
       "<title>T3_3&#45;&gt;T3_3_b</title>\n",
       "<path fill=\"none\" stroke=\"black\" d=\"M707.2,-152.7C707.2,-141.94 707.2,-122.89 707.2,-108.8\"/>\n",
       "<polygon fill=\"black\" stroke=\"black\" points=\"710.7,-109.14 707.2,-99.14 703.7,-109.14 710.7,-109.14\"/>\n",
       "</g>\n",
       "<!-- VOTE -->\n",
       "<g id=\"node35\" class=\"node\">\n",
       "<title>VOTE</title>\n",
       "<text xml:space=\"preserve\" text-anchor=\"middle\" x=\"341.2\" y=\"-84.95\" font-family=\"Times New Roman,serif\" font-size=\"14.00\">Majority voting / Averaging</text>\n",
       "</g>\n",
       "<!-- R1&#45;&gt;VOTE -->\n",
       "<g id=\"edge34\" class=\"edge\">\n",
       "<title>R1&#45;&gt;VOTE</title>\n",
       "<path fill=\"none\" stroke=\"black\" d=\"M282.08,-144.05C294.35,-133.05 310.26,-118.76 322.49,-107.79\"/>\n",
       "</g>\n",
       "<!-- R2&#45;&gt;VOTE -->\n",
       "<g id=\"edge35\" class=\"edge\">\n",
       "<title>R2&#45;&gt;VOTE</title>\n",
       "<path fill=\"none\" stroke=\"black\" d=\"M341.96,-144.05C341.8,-133.05 341.6,-118.76 341.44,-107.79\"/>\n",
       "</g>\n",
       "<!-- R3&#45;&gt;VOTE -->\n",
       "<g id=\"edge36\" class=\"edge\">\n",
       "<title>R3&#45;&gt;VOTE</title>\n",
       "<path fill=\"none\" stroke=\"black\" d=\"M401.83,-144.05C389.26,-133.05 372.93,-118.76 360.39,-107.79\"/>\n",
       "</g>\n",
       "<!-- PRED -->\n",
       "<g id=\"node36\" class=\"node\">\n",
       "<title>PRED</title>\n",
       "<polygon fill=\"#2c7da0\" stroke=\"black\" points=\"418.95,-36 263.45,-36 263.45,0 418.95,0 418.95,-36\"/>\n",
       "<text xml:space=\"preserve\" text-anchor=\"middle\" x=\"341.2\" y=\"-12.95\" font-family=\"Times New Roman,serif\" font-size=\"14.00\" fill=\"white\">Random forest prediction</text>\n",
       "</g>\n",
       "<!-- VOTE&#45;&gt;PRED -->\n",
       "<g id=\"edge37\" class=\"edge\">\n",
       "<title>VOTE&#45;&gt;PRED</title>\n",
       "<path fill=\"none\" stroke=\"black\" d=\"M341.2,-72.05C341.2,-64.68 341.2,-55.84 341.2,-47.51\"/>\n",
       "<polygon fill=\"black\" stroke=\"black\" points=\"344.7,-47.79 341.2,-37.79 337.7,-47.79 344.7,-47.79\"/>\n",
       "</g>\n",
       "</g>\n",
       "</svg>\n"
      ],
      "text/plain": [
       "<graphviz.graphs.Digraph at 0x29d9159d190>"
      ]
     },
     "metadata": {},
     "output_type": "display_data"
    }
   ],
   "source": [
    "from graphviz import Digraph\n",
    "from IPython.display import display\n",
    "\n",
    "dot = Digraph(format='png')\n",
    "dot.attr(rankdir='TB', size='8,6', fontname='Helvetica', style='filled')\n",
    "\n",
    "# Define blue shades\n",
    "blue_dark = \"#2c7da0\"\n",
    "blue_medium = \"#61a5c2\"\n",
    "blue_light = \"#d0e8f2\"\n",
    "gray = \"#7f8c8d\"\n",
    "\n",
    "# Root node (New Sample)\n",
    "dot.node('S', 'New sample', shape='circle', fillcolor=blue_dark, fontcolor='white', style='filled')\n",
    "\n",
    "# Tree roots\n",
    "dot.node('T1', '', shape='circle', width='0.3', fillcolor=blue_medium, style='filled')\n",
    "dot.node('T2', '', shape='circle', width='0.3', fillcolor=blue_medium, style='filled')\n",
    "dot.node('T3', '', shape='circle', width='0.3', fillcolor=blue_medium, style='filled')\n",
    "\n",
    "# Connect root to trees\n",
    "dot.edge('S', 'T1')\n",
    "dot.edge('S', 'T2')\n",
    "dot.edge('S', 'T3')\n",
    "\n",
    "# Simulate subtrees with gray and blue circles\n",
    "for i in range(1, 4):\n",
    "    root = f'T{i}'\n",
    "    for j in range(1, 4):\n",
    "        child = f'{root}_{j}'\n",
    "        dot.node(child, '', shape='circle', width='0.25', fillcolor=gray, style='filled')\n",
    "        dot.edge(root, child)\n",
    "        # Leaf nodes (some greenish-blue, others grayish)\n",
    "        leaf1 = f'{child}_a'\n",
    "        leaf2 = f'{child}_b'\n",
    "        leaf_color = blue_light if j % 2 == 0 else gray\n",
    "        dot.node(leaf1, '', shape='circle', width='0.2', fillcolor=leaf_color, style='filled')\n",
    "        dot.node(leaf2, '', shape='circle', width='0.2', fillcolor=leaf_color, style='filled')\n",
    "        dot.edge(child, leaf1)\n",
    "        dot.edge(child, leaf2)\n",
    "\n",
    "# Result labels\n",
    "dot.node('R1', 'Result 1', shape='plaintext')\n",
    "dot.node('R2', 'Result 2', shape='plaintext')\n",
    "dot.node('R3', 'Result 3', shape='plaintext')\n",
    "dot.edge('T1', 'R1', style='dashed')\n",
    "dot.edge('T2', 'R2', style='dashed')\n",
    "dot.edge('T3', 'R3', style='dashed')\n",
    "\n",
    "# Majority Voting / Averaging\n",
    "dot.node('VOTE', 'Majority voting / Averaging', shape='plaintext')\n",
    "dot.edge('R1', 'VOTE', arrowhead='none')\n",
    "dot.edge('R2', 'VOTE', arrowhead='none')\n",
    "dot.edge('R3', 'VOTE', arrowhead='none')\n",
    "\n",
    "# Final Prediction\n",
    "dot.node('PRED', 'Random forest prediction', shape='box', style='filled', fillcolor=blue_dark, fontcolor='white')\n",
    "dot.edge('VOTE', 'PRED')\n",
    "\n",
    "# Display in notebook\n",
    "display(dot)\n"
   ]
  },
  {
   "cell_type": "code",
   "execution_count": null,
   "id": "fdcbbe40",
   "metadata": {},
   "outputs": [],
   "source": []
  },
  {
   "cell_type": "code",
   "execution_count": null,
   "id": "02940c09",
   "metadata": {},
   "outputs": [],
   "source": []
  },
  {
   "cell_type": "code",
   "execution_count": 58,
   "id": "dbb67400",
   "metadata": {},
   "outputs": [
    {
     "data": {
      "text/plain": [
       "'loan_model_flow.png'"
      ]
     },
     "execution_count": 58,
     "metadata": {},
     "output_type": "execute_result"
    }
   ],
   "source": [
    "dot.render('loan_model_flow', view=True)\n"
   ]
  },
  {
   "cell_type": "code",
   "execution_count": null,
   "id": "29087064",
   "metadata": {},
   "outputs": [],
   "source": []
  },
  {
   "cell_type": "code",
   "execution_count": null,
   "id": "16a8d4bf",
   "metadata": {},
   "outputs": [],
   "source": [
    "from sklearn.linear_model import LogisticRegression\n",
    "from sklearn.tree import DecisionTreeClassifier\n",
    "from sklearn.ensemble import RandomForestClassifier\n",
    "from sklearn.metrics import accuracy_score, classification_report, confusion_matrix\n",
    "from sklearn.model_selection import GridSearchCV\n",
    "from sklearn.linear_model import LogisticRegression\n",
    "import matplotlib.pyplot as plt\n",
    "import seaborn as sns\n"
   ]
  },
  {
   "cell_type": "code",
   "execution_count": 70,
   "id": "f6508e48",
   "metadata": {},
   "outputs": [],
   "source": [
    "models = {\n",
    "    'Logistic Regression': LogisticRegression(),\n",
    "    'Decision Tree': DecisionTreeClassifier(),\n",
    "    'Random Forest': RandomForestClassifier()\n",
    "}"
   ]
  },
  {
   "cell_type": "code",
   "execution_count": 71,
   "id": "a3b6d64a",
   "metadata": {},
   "outputs": [],
   "source": [
    "#  Define model configurations\n",
    "model_configs = {\n",
    "    'Logistic Regression': {\n",
    "        'model': LogisticRegression(),\n",
    "        'params': {\n",
    "            'penalty': ['l2'],\n",
    "            'C': [0.01, 0.1, 1, 10],\n",
    "            'solver': ['liblinear'],\n",
    "            'max_iter': [100, 200]\n",
    "        }\n",
    "    },\n",
    "    'Decision Tree': {\n",
    "        'model': DecisionTreeClassifier(),\n",
    "        'params': {\n",
    "            'criterion': ['gini', 'entropy'],\n",
    "            'max_depth': [3, 5, 10, None],\n",
    "            'min_samples_split': [2, 5, 10],\n",
    "            'min_samples_leaf': [1, 2, 4]\n",
    "        }\n",
    "    },\n",
    "    'Random Forest': {\n",
    "        'model': RandomForestClassifier(),\n",
    "        'params': {\n",
    "            'n_estimators': [50, 100],\n",
    "            'max_depth': [None, 10],\n",
    "            'min_samples_split': [2, 5],\n",
    "            'min_samples_leaf': [1, 2],\n",
    "            'bootstrap': [True]\n",
    "        }\n",
    "    }\n",
    "}"
   ]
  },
  {
   "cell_type": "code",
   "execution_count": 72,
   "id": "6e15ff1a",
   "metadata": {},
   "outputs": [
    {
     "name": "stdout",
     "output_type": "stream",
     "text": [
      "\n",
      "🔍 Tuning Logistic Regression...\n",
      "✅ Best Params for Logistic Regression: {'C': 1, 'max_iter': 100, 'penalty': 'l2', 'solver': 'liblinear'}\n",
      "🎯 Precision: 0.8716\n",
      "🎯 Recall:    0.9596\n",
      "🎯 F1 Score:  0.9135\n",
      "🎯 PR-AUC:    0.8427\n",
      "\n",
      "🔍 Tuning Decision Tree...\n",
      "✅ Best Params for Decision Tree: {'criterion': 'entropy', 'max_depth': 3, 'min_samples_leaf': 4, 'min_samples_split': 2}\n",
      "🎯 Precision: 0.8302\n",
      "🎯 Recall:    0.8889\n",
      "🎯 F1 Score:  0.8585\n",
      "🎯 PR-AUC:    0.8671\n",
      "\n",
      "🔍 Tuning Random Forest...\n",
      "✅ Best Params for Random Forest: {'bootstrap': True, 'max_depth': 10, 'min_samples_leaf': 2, 'min_samples_split': 5, 'n_estimators': 50}\n",
      "🎯 Precision: 0.8384\n",
      "🎯 Recall:    0.8384\n",
      "🎯 F1 Score:  0.8384\n",
      "🎯 PR-AUC:    0.8656\n"
     ]
    }
   ],
   "source": [
    "from sklearn.metrics import precision_score, recall_score, f1_score, auc, precision_recall_curve\n",
    "\n",
    "# Set a threshold (optional for interpretability)\n",
    "threshold = 0.7\n",
    "\n",
    "# Track best model based on F1 Score\n",
    "best_model_name = None\n",
    "best_model = None\n",
    "best_f1 = 0\n",
    "best_params = None\n",
    "\n",
    "results = []\n",
    "\n",
    "for name, config in model_configs.items():\n",
    "    print(f\"\\n🔍 Tuning {name}...\")\n",
    "\n",
    "    grid = GridSearchCV(config['model'], config['params'], cv=5, scoring='f1', n_jobs=-1)\n",
    "    grid.fit(X_train, y_train)\n",
    "\n",
    "    # Predict probabilities if supported\n",
    "    if hasattr(grid.best_estimator_, \"predict_proba\"):\n",
    "        y_probs = grid.predict_proba(X_val)[:, 1]\n",
    "        y_pred = (y_probs >= threshold).astype(int)\n",
    "        precision_curve, recall_curve, _ = precision_recall_curve(y_val, y_probs)\n",
    "        pr_auc = auc(recall_curve, precision_curve)\n",
    "    else:\n",
    "        y_pred = grid.predict(X_val)\n",
    "        # When predict_proba not available, fall back to fixed precision/recall for PR AUC\n",
    "        precision_curve, recall_curve, _ = precision_recall_curve(y_val, y_pred)\n",
    "        pr_auc = auc(recall_curve, precision_curve)\n",
    "\n",
    "    # Compute core evaluation metrics\n",
    "    precision = precision_score(y_val, y_pred, zero_division=0)\n",
    "    recall = recall_score(y_val, y_pred, zero_division=0)\n",
    "    f1 = f1_score(y_val, y_pred, zero_division=0)\n",
    "\n",
    "    print(f\"✅ Best Params for {name}: {grid.best_params_}\")\n",
    "    print(f\"🎯 Precision: {precision:.4f}\")\n",
    "    print(f\"🎯 Recall:    {recall:.4f}\")\n",
    "    print(f\"🎯 F1 Score:  {f1:.4f}\")\n",
    "    print(f\"🎯 PR-AUC:    {pr_auc:.4f}\")\n",
    "\n",
    "    # Save results\n",
    "    results.append({\n",
    "        'Model': name,\n",
    "        'Precision': precision,\n",
    "        'Recall': recall,\n",
    "        'F1 Score': f1,\n",
    "        'PR-AUC': pr_auc\n",
    "    })\n",
    "\n",
    "    # Track best model using F1\n",
    "    if f1 > best_f1:\n",
    "        best_model_name = name\n",
    "        best_model = grid.best_estimator_\n",
    "        best_f1 = f1\n",
    "        best_params = grid.best_params_\n"
   ]
  },
  {
   "cell_type": "code",
   "execution_count": 78,
   "id": "eedbb014",
   "metadata": {},
   "outputs": [
    {
     "name": "stderr",
     "output_type": "stream",
     "text": [
      "C:\\Users\\kumar\\AppData\\Local\\Temp\\ipykernel_6512\\857686786.py:22: UserWarning: set_ticklabels() should only be used with a fixed number of ticks, i.e. after set_ticks() or using a FixedLocator.\n",
      "C:\\Users\\kumar\\AppData\\Local\\Temp\\ipykernel_6512\\857686786.py:22: UserWarning: set_ticklabels() should only be used with a fixed number of ticks, i.e. after set_ticks() or using a FixedLocator.\n",
      "C:\\Users\\kumar\\AppData\\Local\\Temp\\ipykernel_6512\\857686786.py:22: UserWarning: set_ticklabels() should only be used with a fixed number of ticks, i.e. after set_ticks() or using a FixedLocator.\n",
      "C:\\Users\\kumar\\AppData\\Local\\Temp\\ipykernel_6512\\857686786.py:22: UserWarning: set_ticklabels() should only be used with a fixed number of ticks, i.e. after set_ticks() or using a FixedLocator.\n"
     ]
    },
    {
     "data": {
      "image/png": "[encoded data removed]",
      "text/plain": [
       "<Figure size 1000x600 with 4 Axes>"
      ]
     },
     "metadata": {},
     "output_type": "display_data"
    }
   ],
   "source": [
    "df_results = pd.DataFrame(results)\n",
    "\n",
    "# Fix column name typo if needed\n",
    "df_results.rename(columns={' F1 Score': 'F1 Score'}, inplace=True)\n",
    "\n",
    "# Plot settings\n",
    "sns.set_theme(style=\"white\")\n",
    "metrics = ['Precision', 'Recall', 'F1 Score', 'PR-AUC']\n",
    "bar_color = \"#5DADE2\"  # consistent soft blue\n",
    "palette = [bar_color] * len(df_results)\n",
    "\n",
    "# Setup 2x2 grid\n",
    "fig, axes = plt.subplots(2, 2, figsize=(10, 6))\n",
    "axes = axes.flatten()\n",
    "\n",
    "for i, metric in enumerate(metrics):\n",
    "    ax = axes[i]\n",
    "    sns.barplot(x='Model', y=metric, data=df_results, palette=palette, ax=ax)\n",
    "    ax.set_title(f'{metric} Comparison', fontsize=13, weight='bold')\n",
    "    ax.set_ylabel(metric)\n",
    "    ax.set_xlabel('Model')\n",
    "    ax.set_xticklabels(ax.get_xticklabels(), rotation=10)\n",
    "\n",
    "    # Clean up chart style\n",
    "    ax.spines['top'].set_visible(False)\n",
    "    ax.spines['right'].set_visible(False)\n",
    "    ax.grid(False)\n",
    "\n",
    "    # Add bar labels\n",
    "    for p in ax.patches:\n",
    "        ax.annotate(f'{p.get_height():.3f}',\n",
    "                    (p.get_x() + p.get_width() / 2., p.get_height()),\n",
    "                    ha='center', va='bottom', fontsize=10)\n",
    "        \n",
    "        \n",
    "plt.suptitle(\"Comparison of Metrics with Respect to Models\", fontsize=14, weight='bold', y=1.02)\n",
    "\n",
    "plt.tight_layout()\n",
    "plt.show()"
   ]
  },
  {
   "cell_type": "code",
   "execution_count": null,
   "id": "439938b9",
   "metadata": {},
   "outputs": [
    {
     "data": {
      "image/png": "[encoded data removed]",
      "text/plain": [
       "<Figure size 1000x400 with 3 Axes>"
      ]
     },
     "metadata": {},
     "output_type": "display_data"
    }
   ],
   "source": [
    "\n",
    "\n",
    "# 5. Define model configurations\n",
    "model_configs = {\n",
    "    'Logistic Regression': {\n",
    "        'model': LogisticRegression(),\n",
    "        'params': {'penalty': ['l2'], 'C': [0.01, 0.1, 1], 'solver': ['liblinear']}\n",
    "    },\n",
    "    'Decision Tree': {\n",
    "        'model': DecisionTreeClassifier(),\n",
    "        'params': {'max_depth': [3, 5, 10], 'min_samples_split': [2, 5], 'criterion': ['gini', 'entropy']}\n",
    "    },\n",
    "    'Random Forest': {\n",
    "        'model': RandomForestClassifier(),\n",
    "        'params': {'n_estimators': [50, 100], 'max_depth': [5, 10], 'min_samples_leaf': [1, 2]}\n",
    "    }\n",
    "}\n",
    "\n",
    "# 6. Set threshold and evaluate\n",
    "threshold = 0.65\n",
    "conf_matrices = {}\n",
    "\n",
    "for name, config in model_configs.items():\n",
    "    grid = GridSearchCV(config['model'], config['params'], cv=5, scoring='accuracy', n_jobs=-1)\n",
    "    grid.fit(X_train, y_train)\n",
    "\n",
    "    # Use predict_proba if available\n",
    "    if hasattr(grid.best_estimator_, \"predict_proba\"):\n",
    "        y_probs = grid.predict_proba(X_val)[:, 1]\n",
    "        y_pred = (y_probs >= threshold).astype(int)\n",
    "    else:\n",
    "        y_pred = grid.predict(X_val)\n",
    "\n",
    "    # Store confusion matrix\n",
    "    cm = confusion_matrix(y_val, y_pred)\n",
    "    conf_matrices[name] = cm\n",
    "# Plot confusion matrices in a single row\n",
    "fig, axes = plt.subplots(1, len(conf_matrices), figsize=(10, 4))\n",
    "\n",
    "for ax, (name, cm) in zip(axes, conf_matrices.items()):\n",
    "    sns.heatmap(cm, annot=True, fmt='d', cmap='Blues', cbar=False, ax=ax)\n",
    "    ax.set_title(f'Confusion Matrix\\n{name}', fontsize=10)\n",
    "    ax.set_xlabel('Predicted')\n",
    "    ax.set_ylabel('Actual')\n",
    "\n",
    "plt.tight_layout()\n",
    "plt.show()"
   ]
  },
  {
   "cell_type": "markdown",
   "id": "iraqi-intersection",
   "metadata": {},
   "source": [
    "## Store the ML model"
   ]
  },
  {
   "cell_type": "code",
   "execution_count": 87,
   "id": "precious-discipline",
   "metadata": {},
   "outputs": [
    {
     "ename": "FileNotFoundError",
     "evalue": "[Errno 2] No such file or directory: '../bin/xgboostModel.pkl'",
     "output_type": "error",
     "traceback": [
      "\u001b[31m---------------------------------------------------------------------------\u001b[39m",
      "\u001b[31mFileNotFoundError\u001b[39m                         Traceback (most recent call last)",
      "\u001b[36mCell\u001b[39m\u001b[36m \u001b[39m\u001b[32mIn[87]\u001b[39m\u001b[32m, line 3\u001b[39m\n\u001b[32m      1\u001b[39m \u001b[38;5;66;03m# Store the model into a pickle file\u001b[39;00m\n\u001b[32m      2\u001b[39m filename = \u001b[33m'\u001b[39m\u001b[33m../bin/xgboostModel.pkl\u001b[39m\u001b[33m'\u001b[39m\n\u001b[32m----> \u001b[39m\u001b[32m3\u001b[39m \u001b[43mjoblib\u001b[49m\u001b[43m.\u001b[49m\u001b[43mdump\u001b[49m\u001b[43m(\u001b[49m\u001b[43mgrid\u001b[49m\u001b[43m.\u001b[49m\u001b[43mbest_estimator_\u001b[49m\u001b[43m,\u001b[49m\u001b[43m \u001b[49m\u001b[43mfilename\u001b[49m\u001b[43m)\u001b[49m\n",
      "\u001b[36mFile \u001b[39m\u001b[32mc:\\Users\\kumar\\anaconda3\\envs\\Agent\\Lib\\site-packages\\joblib\\numpy_pickle.py:599\u001b[39m, in \u001b[36mdump\u001b[39m\u001b[34m(value, filename, compress, protocol)\u001b[39m\n\u001b[32m    597\u001b[39m         NumpyPickler(f, protocol=protocol).dump(value)\n\u001b[32m    598\u001b[39m \u001b[38;5;28;01melif\u001b[39;00m is_filename:\n\u001b[32m--> \u001b[39m\u001b[32m599\u001b[39m     \u001b[38;5;28;01mwith\u001b[39;00m \u001b[38;5;28;43mopen\u001b[39;49m\u001b[43m(\u001b[49m\u001b[43mfilename\u001b[49m\u001b[43m,\u001b[49m\u001b[43m \u001b[49m\u001b[33;43m\"\u001b[39;49m\u001b[33;43mwb\u001b[39;49m\u001b[33;43m\"\u001b[39;49m\u001b[43m)\u001b[49m \u001b[38;5;28;01mas\u001b[39;00m f:\n\u001b[32m    600\u001b[39m         NumpyPickler(f, protocol=protocol).dump(value)\n\u001b[32m    601\u001b[39m \u001b[38;5;28;01melse\u001b[39;00m:\n",
      "\u001b[31mFileNotFoundError\u001b[39m: [Errno 2] No such file or directory: '../bin/xgboostModel.pkl'"
     ]
    }
   ],
   "source": [
    "# Store the model into a pickle file\n",
    "filename = '../bin/xgboostModel.pkl'\n",
    "joblib.dump(grid.best_estimator_, filename)"
   ]
  }
 ],
 "metadata": {
  "kernelspec": {
   "display_name": "venv",
   "language": "python",
   "name": "python3"
  },
  "language_info": {
   "codemirror_mode": {
    "name": "ipython",
    "version": 3
   },
   "file_extension": ".py",
   "mimetype": "text/x-python",
   "name": "python",
   "nbconvert_exporter": "python",
   "pygments_lexer": "ipython3",
   "version": "3.13.5"
  }
 },
 "nbformat": 4,
 "nbformat_minor": 5
}
